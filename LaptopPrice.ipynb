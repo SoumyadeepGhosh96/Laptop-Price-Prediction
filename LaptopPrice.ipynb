{
 "cells": [
  {
   "cell_type": "code",
   "execution_count": 1,
   "id": "c742539a-cc72-4a4e-85cf-17ccb1612f87",
   "metadata": {},
   "outputs": [],
   "source": [
    "import pandas as pd\n",
    "import numpy as np\n",
    "import matplotlib.pyplot as plt\n",
    "import seaborn as sns\n",
    "from sklearn.metrics import mean_squared_error\n",
    "from math import sqrt"
   ]
  },
  {
   "cell_type": "markdown",
   "id": "cbe9a86c-a04b-431d-814d-8e6e29ca87d3",
   "metadata": {},
   "source": [
    "# Data Mining, Pre-processing & Exploration :"
   ]
  },
  {
   "cell_type": "code",
   "execution_count": 2,
   "id": "bf87fd40-f25f-4ec4-bc7a-73d32f200269",
   "metadata": {},
   "outputs": [
    {
     "data": {
      "text/html": [
       "<div>\n",
       "<style scoped>\n",
       "    .dataframe tbody tr th:only-of-type {\n",
       "        vertical-align: middle;\n",
       "    }\n",
       "\n",
       "    .dataframe tbody tr th {\n",
       "        vertical-align: top;\n",
       "    }\n",
       "\n",
       "    .dataframe thead th {\n",
       "        text-align: right;\n",
       "    }\n",
       "</style>\n",
       "<table border=\"1\" class=\"dataframe\">\n",
       "  <thead>\n",
       "    <tr style=\"text-align: right;\">\n",
       "      <th></th>\n",
       "      <th>brand</th>\n",
       "      <th>model</th>\n",
       "      <th>screen_size</th>\n",
       "      <th>color</th>\n",
       "      <th>harddisk</th>\n",
       "      <th>cpu</th>\n",
       "      <th>ram</th>\n",
       "      <th>OS</th>\n",
       "      <th>special_features</th>\n",
       "      <th>graphics</th>\n",
       "      <th>graphics_coprocessor</th>\n",
       "      <th>cpu_speed</th>\n",
       "      <th>rating</th>\n",
       "      <th>price</th>\n",
       "    </tr>\n",
       "  </thead>\n",
       "  <tbody>\n",
       "    <tr>\n",
       "      <th>0</th>\n",
       "      <td>ROKC</td>\n",
       "      <td>NaN</td>\n",
       "      <td>14 Inches</td>\n",
       "      <td>Blue</td>\n",
       "      <td>1000 GB</td>\n",
       "      <td>Intel Core i7</td>\n",
       "      <td>8 GB</td>\n",
       "      <td>Windows 11</td>\n",
       "      <td>NaN</td>\n",
       "      <td>Integrated</td>\n",
       "      <td>Intel</td>\n",
       "      <td>1.2 GHz</td>\n",
       "      <td>NaN</td>\n",
       "      <td>$589.99</td>\n",
       "    </tr>\n",
       "    <tr>\n",
       "      <th>1</th>\n",
       "      <td>HP</td>\n",
       "      <td>NaN</td>\n",
       "      <td>15.6 Inches</td>\n",
       "      <td>Silver</td>\n",
       "      <td>1000 GB</td>\n",
       "      <td>Intel Core i5</td>\n",
       "      <td>64 GB</td>\n",
       "      <td>Windows 11 Pro</td>\n",
       "      <td>Backlit Keyboard</td>\n",
       "      <td>Integrated</td>\n",
       "      <td>Intel</td>\n",
       "      <td>NaN</td>\n",
       "      <td>4.5</td>\n",
       "      <td>$999.99</td>\n",
       "    </tr>\n",
       "    <tr>\n",
       "      <th>2</th>\n",
       "      <td>MSI</td>\n",
       "      <td>Vector GP66 12UGS-267</td>\n",
       "      <td>15.66 Inches</td>\n",
       "      <td>Core Black</td>\n",
       "      <td>NaN</td>\n",
       "      <td>Intel Core i9</td>\n",
       "      <td>32 GB</td>\n",
       "      <td>Windows 11 Home</td>\n",
       "      <td>NaN</td>\n",
       "      <td>Dedicated</td>\n",
       "      <td>NaN</td>\n",
       "      <td>1.8 GHz</td>\n",
       "      <td>5.0</td>\n",
       "      <td>$1,599.00</td>\n",
       "    </tr>\n",
       "    <tr>\n",
       "      <th>3</th>\n",
       "      <td>Apple</td>\n",
       "      <td>MacBook Air</td>\n",
       "      <td>13.3 Inches</td>\n",
       "      <td>Silver</td>\n",
       "      <td>256 GB</td>\n",
       "      <td>Unknown</td>\n",
       "      <td>8 GB</td>\n",
       "      <td>Mac OS</td>\n",
       "      <td>Backlit Keyboard</td>\n",
       "      <td>Integrated</td>\n",
       "      <td>NaN</td>\n",
       "      <td>NaN</td>\n",
       "      <td>4.8</td>\n",
       "      <td>$689.99</td>\n",
       "    </tr>\n",
       "    <tr>\n",
       "      <th>4</th>\n",
       "      <td>Apple</td>\n",
       "      <td>MacBook Air</td>\n",
       "      <td>15.3 Inches</td>\n",
       "      <td>Midnight</td>\n",
       "      <td>256 GB</td>\n",
       "      <td>Unknown</td>\n",
       "      <td>8 GB</td>\n",
       "      <td>Mac OS</td>\n",
       "      <td>NaN</td>\n",
       "      <td>Integrated</td>\n",
       "      <td>NaN</td>\n",
       "      <td>NaN</td>\n",
       "      <td>4.8</td>\n",
       "      <td>$1,144.48</td>\n",
       "    </tr>\n",
       "  </tbody>\n",
       "</table>\n",
       "</div>"
      ],
      "text/plain": [
       "   brand                  model   screen_size       color harddisk  \\\n",
       "0   ROKC                    NaN     14 Inches        Blue  1000 GB   \n",
       "1     HP                    NaN   15.6 Inches      Silver  1000 GB   \n",
       "2    MSI  Vector GP66 12UGS-267  15.66 Inches  Core Black      NaN   \n",
       "3  Apple            MacBook Air   13.3 Inches      Silver   256 GB   \n",
       "4  Apple            MacBook Air   15.3 Inches    Midnight   256 GB   \n",
       "\n",
       "             cpu    ram               OS  special_features    graphics  \\\n",
       "0  Intel Core i7   8 GB       Windows 11               NaN  Integrated   \n",
       "1  Intel Core i5  64 GB   Windows 11 Pro  Backlit Keyboard  Integrated   \n",
       "2  Intel Core i9  32 GB  Windows 11 Home               NaN   Dedicated   \n",
       "3        Unknown   8 GB           Mac OS  Backlit Keyboard  Integrated   \n",
       "4        Unknown   8 GB           Mac OS               NaN  Integrated   \n",
       "\n",
       "  graphics_coprocessor cpu_speed  rating       price  \n",
       "0                Intel   1.2 GHz     NaN    $589.99   \n",
       "1                Intel       NaN     4.5    $999.99   \n",
       "2                  NaN   1.8 GHz     5.0  $1,599.00   \n",
       "3                  NaN       NaN     4.8    $689.99   \n",
       "4                  NaN       NaN     4.8  $1,144.48   "
      ]
     },
     "execution_count": 2,
     "metadata": {},
     "output_type": "execute_result"
    }
   ],
   "source": [
    "df = pd.read_csv(\"amazon_laptop_prices_v01.csv\")\n",
    "df.head()"
   ]
  },
  {
   "cell_type": "code",
   "execution_count": 3,
   "id": "fc3015b8-e27b-4c34-9038-762857161322",
   "metadata": {},
   "outputs": [
    {
     "name": "stdout",
     "output_type": "stream",
     "text": [
      "<class 'pandas.core.frame.DataFrame'>\n",
      "RangeIndex: 4446 entries, 0 to 4445\n",
      "Data columns (total 14 columns):\n",
      " #   Column                Non-Null Count  Dtype  \n",
      "---  ------                --------------  -----  \n",
      " 0   brand                 4446 non-null   object \n",
      " 1   model                 3282 non-null   object \n",
      " 2   screen_size           4417 non-null   object \n",
      " 3   color                 3867 non-null   object \n",
      " 4   harddisk              3870 non-null   object \n",
      " 5   cpu                   4346 non-null   object \n",
      " 6   ram                   4385 non-null   object \n",
      " 7   OS                    4420 non-null   object \n",
      " 8   special_features      2054 non-null   object \n",
      " 9   graphics              4381 non-null   object \n",
      " 10  graphics_coprocessor  2574 non-null   object \n",
      " 11  cpu_speed             1520 non-null   object \n",
      " 12  rating                2174 non-null   float64\n",
      " 13  price                 4441 non-null   object \n",
      "dtypes: float64(1), object(13)\n",
      "memory usage: 486.4+ KB\n"
     ]
    }
   ],
   "source": [
    "df.info()"
   ]
  },
  {
   "cell_type": "code",
   "execution_count": 4,
   "id": "fc2dbd51-5dc7-446a-b02c-2d82063cbcf9",
   "metadata": {},
   "outputs": [
    {
     "data": {
      "text/plain": [
       "brand                      0\n",
       "model                   1164\n",
       "screen_size               29\n",
       "color                    579\n",
       "harddisk                 576\n",
       "cpu                      100\n",
       "ram                       61\n",
       "OS                        26\n",
       "special_features        2392\n",
       "graphics                  65\n",
       "graphics_coprocessor    1872\n",
       "cpu_speed               2926\n",
       "rating                  2272\n",
       "price                      5\n",
       "dtype: int64"
      ]
     },
     "execution_count": 4,
     "metadata": {},
     "output_type": "execute_result"
    }
   ],
   "source": [
    "df.isnull().sum()"
   ]
  },
  {
   "cell_type": "code",
   "execution_count": 5,
   "id": "576807d7-c5e8-468c-8ef9-a520f3857d72",
   "metadata": {},
   "outputs": [
    {
     "data": {
      "text/plain": [
       "Index(['brand', 'model', 'screen_size', 'color', 'harddisk', 'cpu', 'ram',\n",
       "       'OS', 'special_features', 'graphics', 'graphics_coprocessor',\n",
       "       'cpu_speed', 'rating', 'price'],\n",
       "      dtype='object')"
      ]
     },
     "execution_count": 5,
     "metadata": {},
     "output_type": "execute_result"
    }
   ],
   "source": [
    "df.columns"
   ]
  },
  {
   "cell_type": "code",
   "execution_count": 6,
   "id": "1dae2265-f34f-4a14-84d7-f116eb12dfa5",
   "metadata": {},
   "outputs": [],
   "source": [
    "df[\"screen_size_inch\"]=df['screen_size'].str.split(\" \", expand = True)[0]"
   ]
  },
  {
   "cell_type": "code",
   "execution_count": 7,
   "id": "0e91f2b6-1319-4329-9119-4b88681178f1",
   "metadata": {},
   "outputs": [
    {
     "data": {
      "text/html": [
       "<div>\n",
       "<style scoped>\n",
       "    .dataframe tbody tr th:only-of-type {\n",
       "        vertical-align: middle;\n",
       "    }\n",
       "\n",
       "    .dataframe tbody tr th {\n",
       "        vertical-align: top;\n",
       "    }\n",
       "\n",
       "    .dataframe thead th {\n",
       "        text-align: right;\n",
       "    }\n",
       "</style>\n",
       "<table border=\"1\" class=\"dataframe\">\n",
       "  <thead>\n",
       "    <tr style=\"text-align: right;\">\n",
       "      <th></th>\n",
       "      <th>brand</th>\n",
       "      <th>model</th>\n",
       "      <th>screen_size</th>\n",
       "      <th>color</th>\n",
       "      <th>harddisk</th>\n",
       "      <th>cpu</th>\n",
       "      <th>ram</th>\n",
       "      <th>OS</th>\n",
       "      <th>special_features</th>\n",
       "      <th>graphics</th>\n",
       "      <th>graphics_coprocessor</th>\n",
       "      <th>cpu_speed</th>\n",
       "      <th>rating</th>\n",
       "      <th>price</th>\n",
       "      <th>screen_size_inch</th>\n",
       "    </tr>\n",
       "  </thead>\n",
       "  <tbody>\n",
       "    <tr>\n",
       "      <th>0</th>\n",
       "      <td>ROKC</td>\n",
       "      <td>NaN</td>\n",
       "      <td>14 Inches</td>\n",
       "      <td>Blue</td>\n",
       "      <td>1000 GB</td>\n",
       "      <td>Intel Core i7</td>\n",
       "      <td>8 GB</td>\n",
       "      <td>Windows 11</td>\n",
       "      <td>NaN</td>\n",
       "      <td>Integrated</td>\n",
       "      <td>Intel</td>\n",
       "      <td>1.2 GHz</td>\n",
       "      <td>NaN</td>\n",
       "      <td>$589.99</td>\n",
       "      <td>14</td>\n",
       "    </tr>\n",
       "    <tr>\n",
       "      <th>1</th>\n",
       "      <td>HP</td>\n",
       "      <td>NaN</td>\n",
       "      <td>15.6 Inches</td>\n",
       "      <td>Silver</td>\n",
       "      <td>1000 GB</td>\n",
       "      <td>Intel Core i5</td>\n",
       "      <td>64 GB</td>\n",
       "      <td>Windows 11 Pro</td>\n",
       "      <td>Backlit Keyboard</td>\n",
       "      <td>Integrated</td>\n",
       "      <td>Intel</td>\n",
       "      <td>NaN</td>\n",
       "      <td>4.5</td>\n",
       "      <td>$999.99</td>\n",
       "      <td>15.6</td>\n",
       "    </tr>\n",
       "    <tr>\n",
       "      <th>2</th>\n",
       "      <td>MSI</td>\n",
       "      <td>Vector GP66 12UGS-267</td>\n",
       "      <td>15.66 Inches</td>\n",
       "      <td>Core Black</td>\n",
       "      <td>NaN</td>\n",
       "      <td>Intel Core i9</td>\n",
       "      <td>32 GB</td>\n",
       "      <td>Windows 11 Home</td>\n",
       "      <td>NaN</td>\n",
       "      <td>Dedicated</td>\n",
       "      <td>NaN</td>\n",
       "      <td>1.8 GHz</td>\n",
       "      <td>5.0</td>\n",
       "      <td>$1,599.00</td>\n",
       "      <td>15.66</td>\n",
       "    </tr>\n",
       "    <tr>\n",
       "      <th>3</th>\n",
       "      <td>Apple</td>\n",
       "      <td>MacBook Air</td>\n",
       "      <td>13.3 Inches</td>\n",
       "      <td>Silver</td>\n",
       "      <td>256 GB</td>\n",
       "      <td>Unknown</td>\n",
       "      <td>8 GB</td>\n",
       "      <td>Mac OS</td>\n",
       "      <td>Backlit Keyboard</td>\n",
       "      <td>Integrated</td>\n",
       "      <td>NaN</td>\n",
       "      <td>NaN</td>\n",
       "      <td>4.8</td>\n",
       "      <td>$689.99</td>\n",
       "      <td>13.3</td>\n",
       "    </tr>\n",
       "    <tr>\n",
       "      <th>4</th>\n",
       "      <td>Apple</td>\n",
       "      <td>MacBook Air</td>\n",
       "      <td>15.3 Inches</td>\n",
       "      <td>Midnight</td>\n",
       "      <td>256 GB</td>\n",
       "      <td>Unknown</td>\n",
       "      <td>8 GB</td>\n",
       "      <td>Mac OS</td>\n",
       "      <td>NaN</td>\n",
       "      <td>Integrated</td>\n",
       "      <td>NaN</td>\n",
       "      <td>NaN</td>\n",
       "      <td>4.8</td>\n",
       "      <td>$1,144.48</td>\n",
       "      <td>15.3</td>\n",
       "    </tr>\n",
       "  </tbody>\n",
       "</table>\n",
       "</div>"
      ],
      "text/plain": [
       "   brand                  model   screen_size       color harddisk  \\\n",
       "0   ROKC                    NaN     14 Inches        Blue  1000 GB   \n",
       "1     HP                    NaN   15.6 Inches      Silver  1000 GB   \n",
       "2    MSI  Vector GP66 12UGS-267  15.66 Inches  Core Black      NaN   \n",
       "3  Apple            MacBook Air   13.3 Inches      Silver   256 GB   \n",
       "4  Apple            MacBook Air   15.3 Inches    Midnight   256 GB   \n",
       "\n",
       "             cpu    ram               OS  special_features    graphics  \\\n",
       "0  Intel Core i7   8 GB       Windows 11               NaN  Integrated   \n",
       "1  Intel Core i5  64 GB   Windows 11 Pro  Backlit Keyboard  Integrated   \n",
       "2  Intel Core i9  32 GB  Windows 11 Home               NaN   Dedicated   \n",
       "3        Unknown   8 GB           Mac OS  Backlit Keyboard  Integrated   \n",
       "4        Unknown   8 GB           Mac OS               NaN  Integrated   \n",
       "\n",
       "  graphics_coprocessor cpu_speed  rating       price screen_size_inch  \n",
       "0                Intel   1.2 GHz     NaN    $589.99                14  \n",
       "1                Intel       NaN     4.5    $999.99              15.6  \n",
       "2                  NaN   1.8 GHz     5.0  $1,599.00             15.66  \n",
       "3                  NaN       NaN     4.8    $689.99              13.3  \n",
       "4                  NaN       NaN     4.8  $1,144.48              15.3  "
      ]
     },
     "execution_count": 7,
     "metadata": {},
     "output_type": "execute_result"
    }
   ],
   "source": [
    "df.head()"
   ]
  },
  {
   "cell_type": "code",
   "execution_count": 8,
   "id": "d22b31d1-475a-4b8c-b424-73d9b3c29179",
   "metadata": {},
   "outputs": [
    {
     "data": {
      "text/html": [
       "<div>\n",
       "<style scoped>\n",
       "    .dataframe tbody tr th:only-of-type {\n",
       "        vertical-align: middle;\n",
       "    }\n",
       "\n",
       "    .dataframe tbody tr th {\n",
       "        vertical-align: top;\n",
       "    }\n",
       "\n",
       "    .dataframe thead th {\n",
       "        text-align: right;\n",
       "    }\n",
       "</style>\n",
       "<table border=\"1\" class=\"dataframe\">\n",
       "  <thead>\n",
       "    <tr style=\"text-align: right;\">\n",
       "      <th></th>\n",
       "      <th>brand</th>\n",
       "      <th>model</th>\n",
       "      <th>screen_size</th>\n",
       "      <th>color</th>\n",
       "      <th>harddisk</th>\n",
       "      <th>cpu</th>\n",
       "      <th>ram</th>\n",
       "      <th>OS</th>\n",
       "      <th>special_features</th>\n",
       "      <th>graphics</th>\n",
       "      <th>graphics_coprocessor</th>\n",
       "      <th>cpu_speed</th>\n",
       "      <th>rating</th>\n",
       "      <th>price</th>\n",
       "      <th>screen_size_inch</th>\n",
       "      <th>ram_GB</th>\n",
       "    </tr>\n",
       "  </thead>\n",
       "  <tbody>\n",
       "    <tr>\n",
       "      <th>0</th>\n",
       "      <td>ROKC</td>\n",
       "      <td>NaN</td>\n",
       "      <td>14 Inches</td>\n",
       "      <td>Blue</td>\n",
       "      <td>1000 GB</td>\n",
       "      <td>Intel Core i7</td>\n",
       "      <td>8 GB</td>\n",
       "      <td>Windows 11</td>\n",
       "      <td>NaN</td>\n",
       "      <td>Integrated</td>\n",
       "      <td>Intel</td>\n",
       "      <td>1.2 GHz</td>\n",
       "      <td>NaN</td>\n",
       "      <td>$589.99</td>\n",
       "      <td>14</td>\n",
       "      <td>8</td>\n",
       "    </tr>\n",
       "    <tr>\n",
       "      <th>1</th>\n",
       "      <td>HP</td>\n",
       "      <td>NaN</td>\n",
       "      <td>15.6 Inches</td>\n",
       "      <td>Silver</td>\n",
       "      <td>1000 GB</td>\n",
       "      <td>Intel Core i5</td>\n",
       "      <td>64 GB</td>\n",
       "      <td>Windows 11 Pro</td>\n",
       "      <td>Backlit Keyboard</td>\n",
       "      <td>Integrated</td>\n",
       "      <td>Intel</td>\n",
       "      <td>NaN</td>\n",
       "      <td>4.5</td>\n",
       "      <td>$999.99</td>\n",
       "      <td>15.6</td>\n",
       "      <td>64</td>\n",
       "    </tr>\n",
       "    <tr>\n",
       "      <th>2</th>\n",
       "      <td>MSI</td>\n",
       "      <td>Vector GP66 12UGS-267</td>\n",
       "      <td>15.66 Inches</td>\n",
       "      <td>Core Black</td>\n",
       "      <td>NaN</td>\n",
       "      <td>Intel Core i9</td>\n",
       "      <td>32 GB</td>\n",
       "      <td>Windows 11 Home</td>\n",
       "      <td>NaN</td>\n",
       "      <td>Dedicated</td>\n",
       "      <td>NaN</td>\n",
       "      <td>1.8 GHz</td>\n",
       "      <td>5.0</td>\n",
       "      <td>$1,599.00</td>\n",
       "      <td>15.66</td>\n",
       "      <td>32</td>\n",
       "    </tr>\n",
       "    <tr>\n",
       "      <th>3</th>\n",
       "      <td>Apple</td>\n",
       "      <td>MacBook Air</td>\n",
       "      <td>13.3 Inches</td>\n",
       "      <td>Silver</td>\n",
       "      <td>256 GB</td>\n",
       "      <td>Unknown</td>\n",
       "      <td>8 GB</td>\n",
       "      <td>Mac OS</td>\n",
       "      <td>Backlit Keyboard</td>\n",
       "      <td>Integrated</td>\n",
       "      <td>NaN</td>\n",
       "      <td>NaN</td>\n",
       "      <td>4.8</td>\n",
       "      <td>$689.99</td>\n",
       "      <td>13.3</td>\n",
       "      <td>8</td>\n",
       "    </tr>\n",
       "    <tr>\n",
       "      <th>4</th>\n",
       "      <td>Apple</td>\n",
       "      <td>MacBook Air</td>\n",
       "      <td>15.3 Inches</td>\n",
       "      <td>Midnight</td>\n",
       "      <td>256 GB</td>\n",
       "      <td>Unknown</td>\n",
       "      <td>8 GB</td>\n",
       "      <td>Mac OS</td>\n",
       "      <td>NaN</td>\n",
       "      <td>Integrated</td>\n",
       "      <td>NaN</td>\n",
       "      <td>NaN</td>\n",
       "      <td>4.8</td>\n",
       "      <td>$1,144.48</td>\n",
       "      <td>15.3</td>\n",
       "      <td>8</td>\n",
       "    </tr>\n",
       "  </tbody>\n",
       "</table>\n",
       "</div>"
      ],
      "text/plain": [
       "   brand                  model   screen_size       color harddisk  \\\n",
       "0   ROKC                    NaN     14 Inches        Blue  1000 GB   \n",
       "1     HP                    NaN   15.6 Inches      Silver  1000 GB   \n",
       "2    MSI  Vector GP66 12UGS-267  15.66 Inches  Core Black      NaN   \n",
       "3  Apple            MacBook Air   13.3 Inches      Silver   256 GB   \n",
       "4  Apple            MacBook Air   15.3 Inches    Midnight   256 GB   \n",
       "\n",
       "             cpu    ram               OS  special_features    graphics  \\\n",
       "0  Intel Core i7   8 GB       Windows 11               NaN  Integrated   \n",
       "1  Intel Core i5  64 GB   Windows 11 Pro  Backlit Keyboard  Integrated   \n",
       "2  Intel Core i9  32 GB  Windows 11 Home               NaN   Dedicated   \n",
       "3        Unknown   8 GB           Mac OS  Backlit Keyboard  Integrated   \n",
       "4        Unknown   8 GB           Mac OS               NaN  Integrated   \n",
       "\n",
       "  graphics_coprocessor cpu_speed  rating       price screen_size_inch ram_GB  \n",
       "0                Intel   1.2 GHz     NaN    $589.99                14      8  \n",
       "1                Intel       NaN     4.5    $999.99              15.6     64  \n",
       "2                  NaN   1.8 GHz     5.0  $1,599.00             15.66     32  \n",
       "3                  NaN       NaN     4.8    $689.99              13.3      8  \n",
       "4                  NaN       NaN     4.8  $1,144.48              15.3      8  "
      ]
     },
     "execution_count": 8,
     "metadata": {},
     "output_type": "execute_result"
    }
   ],
   "source": [
    "df['ram_GB'] = df['ram'].str.split(\" \", expand = True)[0]\n",
    "df.head()"
   ]
  },
  {
   "cell_type": "code",
   "execution_count": 9,
   "id": "f7e6d2a6-3221-454d-a771-442afa187f1d",
   "metadata": {},
   "outputs": [
    {
     "data": {
      "text/html": [
       "<div>\n",
       "<style scoped>\n",
       "    .dataframe tbody tr th:only-of-type {\n",
       "        vertical-align: middle;\n",
       "    }\n",
       "\n",
       "    .dataframe tbody tr th {\n",
       "        vertical-align: top;\n",
       "    }\n",
       "\n",
       "    .dataframe thead th {\n",
       "        text-align: right;\n",
       "    }\n",
       "</style>\n",
       "<table border=\"1\" class=\"dataframe\">\n",
       "  <thead>\n",
       "    <tr style=\"text-align: right;\">\n",
       "      <th></th>\n",
       "      <th>brand</th>\n",
       "      <th>model</th>\n",
       "      <th>screen_size</th>\n",
       "      <th>color</th>\n",
       "      <th>harddisk</th>\n",
       "      <th>cpu</th>\n",
       "      <th>ram</th>\n",
       "      <th>OS</th>\n",
       "      <th>special_features</th>\n",
       "      <th>graphics</th>\n",
       "      <th>graphics_coprocessor</th>\n",
       "      <th>cpu_speed</th>\n",
       "      <th>rating</th>\n",
       "      <th>price</th>\n",
       "      <th>screen_size_inch</th>\n",
       "      <th>ram_GB</th>\n",
       "      <th>price_$</th>\n",
       "    </tr>\n",
       "  </thead>\n",
       "  <tbody>\n",
       "    <tr>\n",
       "      <th>0</th>\n",
       "      <td>ROKC</td>\n",
       "      <td>NaN</td>\n",
       "      <td>14 Inches</td>\n",
       "      <td>Blue</td>\n",
       "      <td>1000 GB</td>\n",
       "      <td>Intel Core i7</td>\n",
       "      <td>8 GB</td>\n",
       "      <td>Windows 11</td>\n",
       "      <td>NaN</td>\n",
       "      <td>Integrated</td>\n",
       "      <td>Intel</td>\n",
       "      <td>1.2 GHz</td>\n",
       "      <td>NaN</td>\n",
       "      <td>$589.99</td>\n",
       "      <td>14</td>\n",
       "      <td>8</td>\n",
       "      <td>589.99</td>\n",
       "    </tr>\n",
       "    <tr>\n",
       "      <th>1</th>\n",
       "      <td>HP</td>\n",
       "      <td>NaN</td>\n",
       "      <td>15.6 Inches</td>\n",
       "      <td>Silver</td>\n",
       "      <td>1000 GB</td>\n",
       "      <td>Intel Core i5</td>\n",
       "      <td>64 GB</td>\n",
       "      <td>Windows 11 Pro</td>\n",
       "      <td>Backlit Keyboard</td>\n",
       "      <td>Integrated</td>\n",
       "      <td>Intel</td>\n",
       "      <td>NaN</td>\n",
       "      <td>4.5</td>\n",
       "      <td>$999.99</td>\n",
       "      <td>15.6</td>\n",
       "      <td>64</td>\n",
       "      <td>999.99</td>\n",
       "    </tr>\n",
       "    <tr>\n",
       "      <th>2</th>\n",
       "      <td>MSI</td>\n",
       "      <td>Vector GP66 12UGS-267</td>\n",
       "      <td>15.66 Inches</td>\n",
       "      <td>Core Black</td>\n",
       "      <td>NaN</td>\n",
       "      <td>Intel Core i9</td>\n",
       "      <td>32 GB</td>\n",
       "      <td>Windows 11 Home</td>\n",
       "      <td>NaN</td>\n",
       "      <td>Dedicated</td>\n",
       "      <td>NaN</td>\n",
       "      <td>1.8 GHz</td>\n",
       "      <td>5.0</td>\n",
       "      <td>$1,599.00</td>\n",
       "      <td>15.66</td>\n",
       "      <td>32</td>\n",
       "      <td>1,599.00</td>\n",
       "    </tr>\n",
       "    <tr>\n",
       "      <th>3</th>\n",
       "      <td>Apple</td>\n",
       "      <td>MacBook Air</td>\n",
       "      <td>13.3 Inches</td>\n",
       "      <td>Silver</td>\n",
       "      <td>256 GB</td>\n",
       "      <td>Unknown</td>\n",
       "      <td>8 GB</td>\n",
       "      <td>Mac OS</td>\n",
       "      <td>Backlit Keyboard</td>\n",
       "      <td>Integrated</td>\n",
       "      <td>NaN</td>\n",
       "      <td>NaN</td>\n",
       "      <td>4.8</td>\n",
       "      <td>$689.99</td>\n",
       "      <td>13.3</td>\n",
       "      <td>8</td>\n",
       "      <td>689.99</td>\n",
       "    </tr>\n",
       "    <tr>\n",
       "      <th>4</th>\n",
       "      <td>Apple</td>\n",
       "      <td>MacBook Air</td>\n",
       "      <td>15.3 Inches</td>\n",
       "      <td>Midnight</td>\n",
       "      <td>256 GB</td>\n",
       "      <td>Unknown</td>\n",
       "      <td>8 GB</td>\n",
       "      <td>Mac OS</td>\n",
       "      <td>NaN</td>\n",
       "      <td>Integrated</td>\n",
       "      <td>NaN</td>\n",
       "      <td>NaN</td>\n",
       "      <td>4.8</td>\n",
       "      <td>$1,144.48</td>\n",
       "      <td>15.3</td>\n",
       "      <td>8</td>\n",
       "      <td>1,144.48</td>\n",
       "    </tr>\n",
       "  </tbody>\n",
       "</table>\n",
       "</div>"
      ],
      "text/plain": [
       "   brand                  model   screen_size       color harddisk  \\\n",
       "0   ROKC                    NaN     14 Inches        Blue  1000 GB   \n",
       "1     HP                    NaN   15.6 Inches      Silver  1000 GB   \n",
       "2    MSI  Vector GP66 12UGS-267  15.66 Inches  Core Black      NaN   \n",
       "3  Apple            MacBook Air   13.3 Inches      Silver   256 GB   \n",
       "4  Apple            MacBook Air   15.3 Inches    Midnight   256 GB   \n",
       "\n",
       "             cpu    ram               OS  special_features    graphics  \\\n",
       "0  Intel Core i7   8 GB       Windows 11               NaN  Integrated   \n",
       "1  Intel Core i5  64 GB   Windows 11 Pro  Backlit Keyboard  Integrated   \n",
       "2  Intel Core i9  32 GB  Windows 11 Home               NaN   Dedicated   \n",
       "3        Unknown   8 GB           Mac OS  Backlit Keyboard  Integrated   \n",
       "4        Unknown   8 GB           Mac OS               NaN  Integrated   \n",
       "\n",
       "  graphics_coprocessor cpu_speed  rating       price screen_size_inch ram_GB  \\\n",
       "0                Intel   1.2 GHz     NaN    $589.99                14      8   \n",
       "1                Intel       NaN     4.5    $999.99              15.6     64   \n",
       "2                  NaN   1.8 GHz     5.0  $1,599.00             15.66     32   \n",
       "3                  NaN       NaN     4.8    $689.99              13.3      8   \n",
       "4                  NaN       NaN     4.8  $1,144.48              15.3      8   \n",
       "\n",
       "     price_$  \n",
       "0    589.99   \n",
       "1    999.99   \n",
       "2  1,599.00   \n",
       "3    689.99   \n",
       "4  1,144.48   "
      ]
     },
     "execution_count": 9,
     "metadata": {},
     "output_type": "execute_result"
    }
   ],
   "source": [
    "df[\"price_$\"] = df[\"price\"].str.split(\"$\", expand = True)[1]\n",
    "df.head()"
   ]
  },
  {
   "cell_type": "code",
   "execution_count": 10,
   "id": "30fbe01e-070f-487a-a334-773be6802cfe",
   "metadata": {},
   "outputs": [
    {
     "data": {
      "text/html": [
       "<div>\n",
       "<style scoped>\n",
       "    .dataframe tbody tr th:only-of-type {\n",
       "        vertical-align: middle;\n",
       "    }\n",
       "\n",
       "    .dataframe tbody tr th {\n",
       "        vertical-align: top;\n",
       "    }\n",
       "\n",
       "    .dataframe thead th {\n",
       "        text-align: right;\n",
       "    }\n",
       "</style>\n",
       "<table border=\"1\" class=\"dataframe\">\n",
       "  <thead>\n",
       "    <tr style=\"text-align: right;\">\n",
       "      <th></th>\n",
       "      <th>brand</th>\n",
       "      <th>model</th>\n",
       "      <th>screen_size</th>\n",
       "      <th>color</th>\n",
       "      <th>harddisk</th>\n",
       "      <th>cpu</th>\n",
       "      <th>ram</th>\n",
       "      <th>OS</th>\n",
       "      <th>special_features</th>\n",
       "      <th>graphics</th>\n",
       "      <th>graphics_coprocessor</th>\n",
       "      <th>cpu_speed</th>\n",
       "      <th>rating</th>\n",
       "      <th>price</th>\n",
       "      <th>screen_size_inch</th>\n",
       "      <th>ram_GB</th>\n",
       "      <th>price_$</th>\n",
       "      <th>cpu_speed_GHz</th>\n",
       "    </tr>\n",
       "  </thead>\n",
       "  <tbody>\n",
       "    <tr>\n",
       "      <th>0</th>\n",
       "      <td>ROKC</td>\n",
       "      <td>NaN</td>\n",
       "      <td>14 Inches</td>\n",
       "      <td>Blue</td>\n",
       "      <td>1000 GB</td>\n",
       "      <td>Intel Core i7</td>\n",
       "      <td>8 GB</td>\n",
       "      <td>Windows 11</td>\n",
       "      <td>NaN</td>\n",
       "      <td>Integrated</td>\n",
       "      <td>Intel</td>\n",
       "      <td>1.2 GHz</td>\n",
       "      <td>NaN</td>\n",
       "      <td>$589.99</td>\n",
       "      <td>14</td>\n",
       "      <td>8</td>\n",
       "      <td>589.99</td>\n",
       "      <td>1.2</td>\n",
       "    </tr>\n",
       "    <tr>\n",
       "      <th>1</th>\n",
       "      <td>HP</td>\n",
       "      <td>NaN</td>\n",
       "      <td>15.6 Inches</td>\n",
       "      <td>Silver</td>\n",
       "      <td>1000 GB</td>\n",
       "      <td>Intel Core i5</td>\n",
       "      <td>64 GB</td>\n",
       "      <td>Windows 11 Pro</td>\n",
       "      <td>Backlit Keyboard</td>\n",
       "      <td>Integrated</td>\n",
       "      <td>Intel</td>\n",
       "      <td>NaN</td>\n",
       "      <td>4.5</td>\n",
       "      <td>$999.99</td>\n",
       "      <td>15.6</td>\n",
       "      <td>64</td>\n",
       "      <td>999.99</td>\n",
       "      <td>NaN</td>\n",
       "    </tr>\n",
       "    <tr>\n",
       "      <th>2</th>\n",
       "      <td>MSI</td>\n",
       "      <td>Vector GP66 12UGS-267</td>\n",
       "      <td>15.66 Inches</td>\n",
       "      <td>Core Black</td>\n",
       "      <td>NaN</td>\n",
       "      <td>Intel Core i9</td>\n",
       "      <td>32 GB</td>\n",
       "      <td>Windows 11 Home</td>\n",
       "      <td>NaN</td>\n",
       "      <td>Dedicated</td>\n",
       "      <td>NaN</td>\n",
       "      <td>1.8 GHz</td>\n",
       "      <td>5.0</td>\n",
       "      <td>$1,599.00</td>\n",
       "      <td>15.66</td>\n",
       "      <td>32</td>\n",
       "      <td>1,599.00</td>\n",
       "      <td>1.8</td>\n",
       "    </tr>\n",
       "    <tr>\n",
       "      <th>3</th>\n",
       "      <td>Apple</td>\n",
       "      <td>MacBook Air</td>\n",
       "      <td>13.3 Inches</td>\n",
       "      <td>Silver</td>\n",
       "      <td>256 GB</td>\n",
       "      <td>Unknown</td>\n",
       "      <td>8 GB</td>\n",
       "      <td>Mac OS</td>\n",
       "      <td>Backlit Keyboard</td>\n",
       "      <td>Integrated</td>\n",
       "      <td>NaN</td>\n",
       "      <td>NaN</td>\n",
       "      <td>4.8</td>\n",
       "      <td>$689.99</td>\n",
       "      <td>13.3</td>\n",
       "      <td>8</td>\n",
       "      <td>689.99</td>\n",
       "      <td>NaN</td>\n",
       "    </tr>\n",
       "    <tr>\n",
       "      <th>4</th>\n",
       "      <td>Apple</td>\n",
       "      <td>MacBook Air</td>\n",
       "      <td>15.3 Inches</td>\n",
       "      <td>Midnight</td>\n",
       "      <td>256 GB</td>\n",
       "      <td>Unknown</td>\n",
       "      <td>8 GB</td>\n",
       "      <td>Mac OS</td>\n",
       "      <td>NaN</td>\n",
       "      <td>Integrated</td>\n",
       "      <td>NaN</td>\n",
       "      <td>NaN</td>\n",
       "      <td>4.8</td>\n",
       "      <td>$1,144.48</td>\n",
       "      <td>15.3</td>\n",
       "      <td>8</td>\n",
       "      <td>1,144.48</td>\n",
       "      <td>NaN</td>\n",
       "    </tr>\n",
       "  </tbody>\n",
       "</table>\n",
       "</div>"
      ],
      "text/plain": [
       "   brand                  model   screen_size       color harddisk  \\\n",
       "0   ROKC                    NaN     14 Inches        Blue  1000 GB   \n",
       "1     HP                    NaN   15.6 Inches      Silver  1000 GB   \n",
       "2    MSI  Vector GP66 12UGS-267  15.66 Inches  Core Black      NaN   \n",
       "3  Apple            MacBook Air   13.3 Inches      Silver   256 GB   \n",
       "4  Apple            MacBook Air   15.3 Inches    Midnight   256 GB   \n",
       "\n",
       "             cpu    ram               OS  special_features    graphics  \\\n",
       "0  Intel Core i7   8 GB       Windows 11               NaN  Integrated   \n",
       "1  Intel Core i5  64 GB   Windows 11 Pro  Backlit Keyboard  Integrated   \n",
       "2  Intel Core i9  32 GB  Windows 11 Home               NaN   Dedicated   \n",
       "3        Unknown   8 GB           Mac OS  Backlit Keyboard  Integrated   \n",
       "4        Unknown   8 GB           Mac OS               NaN  Integrated   \n",
       "\n",
       "  graphics_coprocessor cpu_speed  rating       price screen_size_inch ram_GB  \\\n",
       "0                Intel   1.2 GHz     NaN    $589.99                14      8   \n",
       "1                Intel       NaN     4.5    $999.99              15.6     64   \n",
       "2                  NaN   1.8 GHz     5.0  $1,599.00             15.66     32   \n",
       "3                  NaN       NaN     4.8    $689.99              13.3      8   \n",
       "4                  NaN       NaN     4.8  $1,144.48              15.3      8   \n",
       "\n",
       "     price_$ cpu_speed_GHz  \n",
       "0    589.99            1.2  \n",
       "1    999.99            NaN  \n",
       "2  1,599.00            1.8  \n",
       "3    689.99            NaN  \n",
       "4  1,144.48            NaN  "
      ]
     },
     "execution_count": 10,
     "metadata": {},
     "output_type": "execute_result"
    }
   ],
   "source": [
    "df[\"cpu_speed_GHz\"] = df[\"cpu_speed\"].str.split(\" \", expand = True)[0]\n",
    "df.head()"
   ]
  },
  {
   "cell_type": "code",
   "execution_count": 11,
   "id": "c5d59b47-7c1a-4047-b2f6-db03cb10300d",
   "metadata": {},
   "outputs": [
    {
     "data": {
      "text/html": [
       "<div>\n",
       "<style scoped>\n",
       "    .dataframe tbody tr th:only-of-type {\n",
       "        vertical-align: middle;\n",
       "    }\n",
       "\n",
       "    .dataframe tbody tr th {\n",
       "        vertical-align: top;\n",
       "    }\n",
       "\n",
       "    .dataframe thead th {\n",
       "        text-align: right;\n",
       "    }\n",
       "</style>\n",
       "<table border=\"1\" class=\"dataframe\">\n",
       "  <thead>\n",
       "    <tr style=\"text-align: right;\">\n",
       "      <th></th>\n",
       "      <th>brand</th>\n",
       "      <th>model</th>\n",
       "      <th>screen_size</th>\n",
       "      <th>color</th>\n",
       "      <th>harddisk</th>\n",
       "      <th>cpu</th>\n",
       "      <th>ram</th>\n",
       "      <th>OS</th>\n",
       "      <th>special_features</th>\n",
       "      <th>graphics</th>\n",
       "      <th>graphics_coprocessor</th>\n",
       "      <th>cpu_speed</th>\n",
       "      <th>rating</th>\n",
       "      <th>price</th>\n",
       "      <th>screen_size_inch</th>\n",
       "      <th>ram_GB</th>\n",
       "      <th>price_$</th>\n",
       "      <th>cpu_speed_GHz</th>\n",
       "      <th>harddisk_GB</th>\n",
       "    </tr>\n",
       "  </thead>\n",
       "  <tbody>\n",
       "    <tr>\n",
       "      <th>0</th>\n",
       "      <td>ROKC</td>\n",
       "      <td>NaN</td>\n",
       "      <td>14 Inches</td>\n",
       "      <td>Blue</td>\n",
       "      <td>1000 GB</td>\n",
       "      <td>Intel Core i7</td>\n",
       "      <td>8 GB</td>\n",
       "      <td>Windows 11</td>\n",
       "      <td>NaN</td>\n",
       "      <td>Integrated</td>\n",
       "      <td>Intel</td>\n",
       "      <td>1.2 GHz</td>\n",
       "      <td>NaN</td>\n",
       "      <td>$589.99</td>\n",
       "      <td>14</td>\n",
       "      <td>8</td>\n",
       "      <td>589.99</td>\n",
       "      <td>1.2</td>\n",
       "      <td>1000</td>\n",
       "    </tr>\n",
       "    <tr>\n",
       "      <th>1</th>\n",
       "      <td>HP</td>\n",
       "      <td>NaN</td>\n",
       "      <td>15.6 Inches</td>\n",
       "      <td>Silver</td>\n",
       "      <td>1000 GB</td>\n",
       "      <td>Intel Core i5</td>\n",
       "      <td>64 GB</td>\n",
       "      <td>Windows 11 Pro</td>\n",
       "      <td>Backlit Keyboard</td>\n",
       "      <td>Integrated</td>\n",
       "      <td>Intel</td>\n",
       "      <td>NaN</td>\n",
       "      <td>4.5</td>\n",
       "      <td>$999.99</td>\n",
       "      <td>15.6</td>\n",
       "      <td>64</td>\n",
       "      <td>999.99</td>\n",
       "      <td>NaN</td>\n",
       "      <td>1000</td>\n",
       "    </tr>\n",
       "    <tr>\n",
       "      <th>2</th>\n",
       "      <td>MSI</td>\n",
       "      <td>Vector GP66 12UGS-267</td>\n",
       "      <td>15.66 Inches</td>\n",
       "      <td>Core Black</td>\n",
       "      <td>NaN</td>\n",
       "      <td>Intel Core i9</td>\n",
       "      <td>32 GB</td>\n",
       "      <td>Windows 11 Home</td>\n",
       "      <td>NaN</td>\n",
       "      <td>Dedicated</td>\n",
       "      <td>NaN</td>\n",
       "      <td>1.8 GHz</td>\n",
       "      <td>5.0</td>\n",
       "      <td>$1,599.00</td>\n",
       "      <td>15.66</td>\n",
       "      <td>32</td>\n",
       "      <td>1,599.00</td>\n",
       "      <td>1.8</td>\n",
       "      <td>NaN</td>\n",
       "    </tr>\n",
       "    <tr>\n",
       "      <th>3</th>\n",
       "      <td>Apple</td>\n",
       "      <td>MacBook Air</td>\n",
       "      <td>13.3 Inches</td>\n",
       "      <td>Silver</td>\n",
       "      <td>256 GB</td>\n",
       "      <td>Unknown</td>\n",
       "      <td>8 GB</td>\n",
       "      <td>Mac OS</td>\n",
       "      <td>Backlit Keyboard</td>\n",
       "      <td>Integrated</td>\n",
       "      <td>NaN</td>\n",
       "      <td>NaN</td>\n",
       "      <td>4.8</td>\n",
       "      <td>$689.99</td>\n",
       "      <td>13.3</td>\n",
       "      <td>8</td>\n",
       "      <td>689.99</td>\n",
       "      <td>NaN</td>\n",
       "      <td>256</td>\n",
       "    </tr>\n",
       "    <tr>\n",
       "      <th>4</th>\n",
       "      <td>Apple</td>\n",
       "      <td>MacBook Air</td>\n",
       "      <td>15.3 Inches</td>\n",
       "      <td>Midnight</td>\n",
       "      <td>256 GB</td>\n",
       "      <td>Unknown</td>\n",
       "      <td>8 GB</td>\n",
       "      <td>Mac OS</td>\n",
       "      <td>NaN</td>\n",
       "      <td>Integrated</td>\n",
       "      <td>NaN</td>\n",
       "      <td>NaN</td>\n",
       "      <td>4.8</td>\n",
       "      <td>$1,144.48</td>\n",
       "      <td>15.3</td>\n",
       "      <td>8</td>\n",
       "      <td>1,144.48</td>\n",
       "      <td>NaN</td>\n",
       "      <td>256</td>\n",
       "    </tr>\n",
       "  </tbody>\n",
       "</table>\n",
       "</div>"
      ],
      "text/plain": [
       "   brand                  model   screen_size       color harddisk  \\\n",
       "0   ROKC                    NaN     14 Inches        Blue  1000 GB   \n",
       "1     HP                    NaN   15.6 Inches      Silver  1000 GB   \n",
       "2    MSI  Vector GP66 12UGS-267  15.66 Inches  Core Black      NaN   \n",
       "3  Apple            MacBook Air   13.3 Inches      Silver   256 GB   \n",
       "4  Apple            MacBook Air   15.3 Inches    Midnight   256 GB   \n",
       "\n",
       "             cpu    ram               OS  special_features    graphics  \\\n",
       "0  Intel Core i7   8 GB       Windows 11               NaN  Integrated   \n",
       "1  Intel Core i5  64 GB   Windows 11 Pro  Backlit Keyboard  Integrated   \n",
       "2  Intel Core i9  32 GB  Windows 11 Home               NaN   Dedicated   \n",
       "3        Unknown   8 GB           Mac OS  Backlit Keyboard  Integrated   \n",
       "4        Unknown   8 GB           Mac OS               NaN  Integrated   \n",
       "\n",
       "  graphics_coprocessor cpu_speed  rating       price screen_size_inch ram_GB  \\\n",
       "0                Intel   1.2 GHz     NaN    $589.99                14      8   \n",
       "1                Intel       NaN     4.5    $999.99              15.6     64   \n",
       "2                  NaN   1.8 GHz     5.0  $1,599.00             15.66     32   \n",
       "3                  NaN       NaN     4.8    $689.99              13.3      8   \n",
       "4                  NaN       NaN     4.8  $1,144.48              15.3      8   \n",
       "\n",
       "     price_$ cpu_speed_GHz harddisk_GB  \n",
       "0    589.99            1.2        1000  \n",
       "1    999.99            NaN        1000  \n",
       "2  1,599.00            1.8         NaN  \n",
       "3    689.99            NaN         256  \n",
       "4  1,144.48            NaN         256  "
      ]
     },
     "execution_count": 11,
     "metadata": {},
     "output_type": "execute_result"
    }
   ],
   "source": [
    "df[\"harddisk_GB\"] = df[\"harddisk\"].str.split(\" \", expand = True)[0]\n",
    "df.head()"
   ]
  },
  {
   "cell_type": "code",
   "execution_count": 12,
   "id": "246b9f5e-63f4-4620-abfc-ae270e644b87",
   "metadata": {},
   "outputs": [
    {
     "data": {
      "text/plain": [
       "Index(['brand', 'model', 'screen_size', 'color', 'harddisk', 'cpu', 'ram',\n",
       "       'OS', 'special_features', 'graphics', 'graphics_coprocessor',\n",
       "       'cpu_speed', 'rating', 'price', 'screen_size_inch', 'ram_GB', 'price_$',\n",
       "       'cpu_speed_GHz', 'harddisk_GB'],\n",
       "      dtype='object')"
      ]
     },
     "execution_count": 12,
     "metadata": {},
     "output_type": "execute_result"
    }
   ],
   "source": [
    "df.columns"
   ]
  },
  {
   "cell_type": "code",
   "execution_count": 13,
   "id": "98384221-624e-4df2-b4c0-f94beec68e31",
   "metadata": {},
   "outputs": [
    {
     "data": {
      "text/html": [
       "<div>\n",
       "<style scoped>\n",
       "    .dataframe tbody tr th:only-of-type {\n",
       "        vertical-align: middle;\n",
       "    }\n",
       "\n",
       "    .dataframe tbody tr th {\n",
       "        vertical-align: top;\n",
       "    }\n",
       "\n",
       "    .dataframe thead th {\n",
       "        text-align: right;\n",
       "    }\n",
       "</style>\n",
       "<table border=\"1\" class=\"dataframe\">\n",
       "  <thead>\n",
       "    <tr style=\"text-align: right;\">\n",
       "      <th></th>\n",
       "      <th>brand</th>\n",
       "      <th>model</th>\n",
       "      <th>screen_size_inch</th>\n",
       "      <th>color</th>\n",
       "      <th>harddisk_GB</th>\n",
       "      <th>cpu</th>\n",
       "      <th>ram_GB</th>\n",
       "      <th>OS</th>\n",
       "      <th>special_features</th>\n",
       "      <th>graphics</th>\n",
       "      <th>graphics_coprocessor</th>\n",
       "      <th>cpu_speed_GHz</th>\n",
       "      <th>rating</th>\n",
       "      <th>price_$</th>\n",
       "    </tr>\n",
       "  </thead>\n",
       "  <tbody>\n",
       "    <tr>\n",
       "      <th>0</th>\n",
       "      <td>ROKC</td>\n",
       "      <td>NaN</td>\n",
       "      <td>14</td>\n",
       "      <td>Blue</td>\n",
       "      <td>1000</td>\n",
       "      <td>Intel Core i7</td>\n",
       "      <td>8</td>\n",
       "      <td>Windows 11</td>\n",
       "      <td>NaN</td>\n",
       "      <td>Integrated</td>\n",
       "      <td>Intel</td>\n",
       "      <td>1.2</td>\n",
       "      <td>NaN</td>\n",
       "      <td>589.99</td>\n",
       "    </tr>\n",
       "    <tr>\n",
       "      <th>1</th>\n",
       "      <td>HP</td>\n",
       "      <td>NaN</td>\n",
       "      <td>15.6</td>\n",
       "      <td>Silver</td>\n",
       "      <td>1000</td>\n",
       "      <td>Intel Core i5</td>\n",
       "      <td>64</td>\n",
       "      <td>Windows 11 Pro</td>\n",
       "      <td>Backlit Keyboard</td>\n",
       "      <td>Integrated</td>\n",
       "      <td>Intel</td>\n",
       "      <td>NaN</td>\n",
       "      <td>4.5</td>\n",
       "      <td>999.99</td>\n",
       "    </tr>\n",
       "    <tr>\n",
       "      <th>2</th>\n",
       "      <td>MSI</td>\n",
       "      <td>Vector GP66 12UGS-267</td>\n",
       "      <td>15.66</td>\n",
       "      <td>Core Black</td>\n",
       "      <td>NaN</td>\n",
       "      <td>Intel Core i9</td>\n",
       "      <td>32</td>\n",
       "      <td>Windows 11 Home</td>\n",
       "      <td>NaN</td>\n",
       "      <td>Dedicated</td>\n",
       "      <td>NaN</td>\n",
       "      <td>1.8</td>\n",
       "      <td>5.0</td>\n",
       "      <td>1,599.00</td>\n",
       "    </tr>\n",
       "    <tr>\n",
       "      <th>3</th>\n",
       "      <td>Apple</td>\n",
       "      <td>MacBook Air</td>\n",
       "      <td>13.3</td>\n",
       "      <td>Silver</td>\n",
       "      <td>256</td>\n",
       "      <td>Unknown</td>\n",
       "      <td>8</td>\n",
       "      <td>Mac OS</td>\n",
       "      <td>Backlit Keyboard</td>\n",
       "      <td>Integrated</td>\n",
       "      <td>NaN</td>\n",
       "      <td>NaN</td>\n",
       "      <td>4.8</td>\n",
       "      <td>689.99</td>\n",
       "    </tr>\n",
       "    <tr>\n",
       "      <th>4</th>\n",
       "      <td>Apple</td>\n",
       "      <td>MacBook Air</td>\n",
       "      <td>15.3</td>\n",
       "      <td>Midnight</td>\n",
       "      <td>256</td>\n",
       "      <td>Unknown</td>\n",
       "      <td>8</td>\n",
       "      <td>Mac OS</td>\n",
       "      <td>NaN</td>\n",
       "      <td>Integrated</td>\n",
       "      <td>NaN</td>\n",
       "      <td>NaN</td>\n",
       "      <td>4.8</td>\n",
       "      <td>1,144.48</td>\n",
       "    </tr>\n",
       "  </tbody>\n",
       "</table>\n",
       "</div>"
      ],
      "text/plain": [
       "   brand                  model screen_size_inch       color harddisk_GB  \\\n",
       "0   ROKC                    NaN               14        Blue        1000   \n",
       "1     HP                    NaN             15.6      Silver        1000   \n",
       "2    MSI  Vector GP66 12UGS-267            15.66  Core Black         NaN   \n",
       "3  Apple            MacBook Air             13.3      Silver         256   \n",
       "4  Apple            MacBook Air             15.3    Midnight         256   \n",
       "\n",
       "             cpu ram_GB               OS  special_features    graphics  \\\n",
       "0  Intel Core i7      8       Windows 11               NaN  Integrated   \n",
       "1  Intel Core i5     64   Windows 11 Pro  Backlit Keyboard  Integrated   \n",
       "2  Intel Core i9     32  Windows 11 Home               NaN   Dedicated   \n",
       "3        Unknown      8           Mac OS  Backlit Keyboard  Integrated   \n",
       "4        Unknown      8           Mac OS               NaN  Integrated   \n",
       "\n",
       "  graphics_coprocessor cpu_speed_GHz  rating    price_$  \n",
       "0                Intel           1.2     NaN    589.99   \n",
       "1                Intel           NaN     4.5    999.99   \n",
       "2                  NaN           1.8     5.0  1,599.00   \n",
       "3                  NaN           NaN     4.8    689.99   \n",
       "4                  NaN           NaN     4.8  1,144.48   "
      ]
     },
     "execution_count": 13,
     "metadata": {},
     "output_type": "execute_result"
    }
   ],
   "source": [
    "comp_df = df[['brand', 'model', 'screen_size_inch', 'color', 'harddisk_GB', 'cpu', 'ram_GB',\n",
    "       'OS', 'special_features', 'graphics', 'graphics_coprocessor',\n",
    "       'cpu_speed_GHz', 'rating', 'price_$']].copy()\n",
    "comp_df.head()"
   ]
  },
  {
   "cell_type": "code",
   "execution_count": 14,
   "id": "f442ba5b-402f-4e88-acb8-45998deffb55",
   "metadata": {},
   "outputs": [
    {
     "data": {
      "text/html": [
       "<div>\n",
       "<style scoped>\n",
       "    .dataframe tbody tr th:only-of-type {\n",
       "        vertical-align: middle;\n",
       "    }\n",
       "\n",
       "    .dataframe tbody tr th {\n",
       "        vertical-align: top;\n",
       "    }\n",
       "\n",
       "    .dataframe thead th {\n",
       "        text-align: right;\n",
       "    }\n",
       "</style>\n",
       "<table border=\"1\" class=\"dataframe\">\n",
       "  <thead>\n",
       "    <tr style=\"text-align: right;\">\n",
       "      <th></th>\n",
       "      <th>brand</th>\n",
       "      <th>model</th>\n",
       "      <th>screen_size_inch</th>\n",
       "      <th>color</th>\n",
       "      <th>harddisk_GB</th>\n",
       "      <th>cpu</th>\n",
       "      <th>ram_GB</th>\n",
       "      <th>OS</th>\n",
       "      <th>special_features</th>\n",
       "      <th>graphics</th>\n",
       "      <th>graphics_coprocessor</th>\n",
       "      <th>cpu_speed_GHz</th>\n",
       "      <th>rating</th>\n",
       "      <th>price_$</th>\n",
       "    </tr>\n",
       "  </thead>\n",
       "  <tbody>\n",
       "    <tr>\n",
       "      <th>0</th>\n",
       "      <td>ROKC</td>\n",
       "      <td>NaN</td>\n",
       "      <td>14</td>\n",
       "      <td>Blue</td>\n",
       "      <td>1000</td>\n",
       "      <td>Intel Core i7</td>\n",
       "      <td>8</td>\n",
       "      <td>Windows 11</td>\n",
       "      <td>NaN</td>\n",
       "      <td>Integrated</td>\n",
       "      <td>Intel</td>\n",
       "      <td>1.2</td>\n",
       "      <td>NaN</td>\n",
       "      <td>589.99</td>\n",
       "    </tr>\n",
       "    <tr>\n",
       "      <th>1</th>\n",
       "      <td>HP</td>\n",
       "      <td>NaN</td>\n",
       "      <td>15.6</td>\n",
       "      <td>Silver</td>\n",
       "      <td>1000</td>\n",
       "      <td>Intel Core i5</td>\n",
       "      <td>64</td>\n",
       "      <td>Windows 11 Pro</td>\n",
       "      <td>Backlit Keyboard</td>\n",
       "      <td>Integrated</td>\n",
       "      <td>Intel</td>\n",
       "      <td>NaN</td>\n",
       "      <td>4.5</td>\n",
       "      <td>999.99</td>\n",
       "    </tr>\n",
       "    <tr>\n",
       "      <th>2</th>\n",
       "      <td>MSI</td>\n",
       "      <td>Vector GP66 12UGS-267</td>\n",
       "      <td>15.66</td>\n",
       "      <td>Core Black</td>\n",
       "      <td>NaN</td>\n",
       "      <td>Intel Core i9</td>\n",
       "      <td>32</td>\n",
       "      <td>Windows 11 Home</td>\n",
       "      <td>NaN</td>\n",
       "      <td>Dedicated</td>\n",
       "      <td>NaN</td>\n",
       "      <td>1.8</td>\n",
       "      <td>5.0</td>\n",
       "      <td>1599.00</td>\n",
       "    </tr>\n",
       "    <tr>\n",
       "      <th>3</th>\n",
       "      <td>Apple</td>\n",
       "      <td>MacBook Air</td>\n",
       "      <td>13.3</td>\n",
       "      <td>Silver</td>\n",
       "      <td>256</td>\n",
       "      <td>Unknown</td>\n",
       "      <td>8</td>\n",
       "      <td>Mac OS</td>\n",
       "      <td>Backlit Keyboard</td>\n",
       "      <td>Integrated</td>\n",
       "      <td>NaN</td>\n",
       "      <td>NaN</td>\n",
       "      <td>4.8</td>\n",
       "      <td>689.99</td>\n",
       "    </tr>\n",
       "    <tr>\n",
       "      <th>4</th>\n",
       "      <td>Apple</td>\n",
       "      <td>MacBook Air</td>\n",
       "      <td>15.3</td>\n",
       "      <td>Midnight</td>\n",
       "      <td>256</td>\n",
       "      <td>Unknown</td>\n",
       "      <td>8</td>\n",
       "      <td>Mac OS</td>\n",
       "      <td>NaN</td>\n",
       "      <td>Integrated</td>\n",
       "      <td>NaN</td>\n",
       "      <td>NaN</td>\n",
       "      <td>4.8</td>\n",
       "      <td>1144.48</td>\n",
       "    </tr>\n",
       "  </tbody>\n",
       "</table>\n",
       "</div>"
      ],
      "text/plain": [
       "   brand                  model screen_size_inch       color harddisk_GB  \\\n",
       "0   ROKC                    NaN               14        Blue        1000   \n",
       "1     HP                    NaN             15.6      Silver        1000   \n",
       "2    MSI  Vector GP66 12UGS-267            15.66  Core Black         NaN   \n",
       "3  Apple            MacBook Air             13.3      Silver         256   \n",
       "4  Apple            MacBook Air             15.3    Midnight         256   \n",
       "\n",
       "             cpu ram_GB               OS  special_features    graphics  \\\n",
       "0  Intel Core i7      8       Windows 11               NaN  Integrated   \n",
       "1  Intel Core i5     64   Windows 11 Pro  Backlit Keyboard  Integrated   \n",
       "2  Intel Core i9     32  Windows 11 Home               NaN   Dedicated   \n",
       "3        Unknown      8           Mac OS  Backlit Keyboard  Integrated   \n",
       "4        Unknown      8           Mac OS               NaN  Integrated   \n",
       "\n",
       "  graphics_coprocessor cpu_speed_GHz  rating   price_$  \n",
       "0                Intel           1.2     NaN   589.99   \n",
       "1                Intel           NaN     4.5   999.99   \n",
       "2                  NaN           1.8     5.0  1599.00   \n",
       "3                  NaN           NaN     4.8   689.99   \n",
       "4                  NaN           NaN     4.8  1144.48   "
      ]
     },
     "execution_count": 14,
     "metadata": {},
     "output_type": "execute_result"
    }
   ],
   "source": [
    "comp_df['price_$'] = comp_df['price_$'].str.replace(\",\",\"\")\n",
    "comp_df.head()"
   ]
  },
  {
   "cell_type": "code",
   "execution_count": 15,
   "id": "b596729b-50d0-4651-91c0-1be9e2f4ebb7",
   "metadata": {},
   "outputs": [
    {
     "name": "stdout",
     "output_type": "stream",
     "text": [
      "<class 'pandas.core.frame.DataFrame'>\n",
      "RangeIndex: 4446 entries, 0 to 4445\n",
      "Data columns (total 14 columns):\n",
      " #   Column                Non-Null Count  Dtype  \n",
      "---  ------                --------------  -----  \n",
      " 0   brand                 4446 non-null   object \n",
      " 1   model                 3282 non-null   object \n",
      " 2   screen_size_inch      4417 non-null   float64\n",
      " 3   color                 3867 non-null   object \n",
      " 4   harddisk_GB           3870 non-null   float64\n",
      " 5   cpu                   4346 non-null   object \n",
      " 6   ram_GB                4385 non-null   float64\n",
      " 7   OS                    4420 non-null   object \n",
      " 8   special_features      2054 non-null   object \n",
      " 9   graphics              4381 non-null   object \n",
      " 10  graphics_coprocessor  2574 non-null   object \n",
      " 11  cpu_speed_GHz         1520 non-null   float64\n",
      " 12  rating                2174 non-null   float64\n",
      " 13  price_$               4441 non-null   float64\n",
      "dtypes: float64(6), object(8)\n",
      "memory usage: 486.4+ KB\n"
     ]
    }
   ],
   "source": [
    "comp_df['screen_size_inch'] = comp_df['screen_size_inch'].astype(float)\n",
    "comp_df['harddisk_GB'] = comp_df['harddisk_GB'].astype(float)\n",
    "comp_df['ram_GB'] = comp_df['ram_GB'].astype(float)\n",
    "comp_df['price_$'] = comp_df['price_$'].astype(float)\n",
    "comp_df['cpu_speed_GHz'] = comp_df['cpu_speed_GHz'].str.replace(',', '').astype(float)\n",
    "comp_df.info()"
   ]
  },
  {
   "cell_type": "code",
   "execution_count": 16,
   "id": "29175a83-7ed1-47ca-bae6-547d18f4becc",
   "metadata": {},
   "outputs": [
    {
     "data": {
      "text/plain": [
       "brand                      0\n",
       "model                   1164\n",
       "screen_size_inch          29\n",
       "color                    579\n",
       "harddisk_GB              576\n",
       "cpu                      100\n",
       "ram_GB                    61\n",
       "OS                        26\n",
       "special_features        2392\n",
       "graphics                  65\n",
       "graphics_coprocessor    1872\n",
       "cpu_speed_GHz           2926\n",
       "rating                  2272\n",
       "price_$                    5\n",
       "dtype: int64"
      ]
     },
     "execution_count": 16,
     "metadata": {},
     "output_type": "execute_result"
    }
   ],
   "source": [
    "comp_df.isnull().sum()"
   ]
  },
  {
   "cell_type": "code",
   "execution_count": 17,
   "id": "2de8d6bf-7abe-4709-b839-f233ed79cabc",
   "metadata": {},
   "outputs": [
    {
     "data": {
      "text/html": [
       "<div>\n",
       "<style scoped>\n",
       "    .dataframe tbody tr th:only-of-type {\n",
       "        vertical-align: middle;\n",
       "    }\n",
       "\n",
       "    .dataframe tbody tr th {\n",
       "        vertical-align: top;\n",
       "    }\n",
       "\n",
       "    .dataframe thead th {\n",
       "        text-align: right;\n",
       "    }\n",
       "</style>\n",
       "<table border=\"1\" class=\"dataframe\">\n",
       "  <thead>\n",
       "    <tr style=\"text-align: right;\">\n",
       "      <th></th>\n",
       "      <th>brand</th>\n",
       "      <th>model</th>\n",
       "      <th>screen_size_inch</th>\n",
       "      <th>color</th>\n",
       "      <th>harddisk_GB</th>\n",
       "      <th>cpu</th>\n",
       "      <th>ram_GB</th>\n",
       "      <th>OS</th>\n",
       "      <th>special_features</th>\n",
       "      <th>graphics</th>\n",
       "      <th>graphics_coprocessor</th>\n",
       "      <th>cpu_speed_GHz</th>\n",
       "      <th>rating</th>\n",
       "      <th>price_$</th>\n",
       "    </tr>\n",
       "  </thead>\n",
       "  <tbody>\n",
       "    <tr>\n",
       "      <th>0</th>\n",
       "      <td>ROKC</td>\n",
       "      <td>Unknown</td>\n",
       "      <td>14.00</td>\n",
       "      <td>Blue</td>\n",
       "      <td>1000.0</td>\n",
       "      <td>Intel Core i7</td>\n",
       "      <td>8.0</td>\n",
       "      <td>Windows 11</td>\n",
       "      <td>Unknown</td>\n",
       "      <td>Integrated</td>\n",
       "      <td>Intel</td>\n",
       "      <td>1.2</td>\n",
       "      <td>NaN</td>\n",
       "      <td>589.99</td>\n",
       "    </tr>\n",
       "    <tr>\n",
       "      <th>1</th>\n",
       "      <td>HP</td>\n",
       "      <td>Unknown</td>\n",
       "      <td>15.60</td>\n",
       "      <td>Silver</td>\n",
       "      <td>1000.0</td>\n",
       "      <td>Intel Core i5</td>\n",
       "      <td>64.0</td>\n",
       "      <td>Windows 11 Pro</td>\n",
       "      <td>Backlit Keyboard</td>\n",
       "      <td>Integrated</td>\n",
       "      <td>Intel</td>\n",
       "      <td>NaN</td>\n",
       "      <td>4.5</td>\n",
       "      <td>999.99</td>\n",
       "    </tr>\n",
       "    <tr>\n",
       "      <th>2</th>\n",
       "      <td>MSI</td>\n",
       "      <td>Vector GP66 12UGS-267</td>\n",
       "      <td>15.66</td>\n",
       "      <td>Core Black</td>\n",
       "      <td>NaN</td>\n",
       "      <td>Intel Core i9</td>\n",
       "      <td>32.0</td>\n",
       "      <td>Windows 11 Home</td>\n",
       "      <td>Unknown</td>\n",
       "      <td>Dedicated</td>\n",
       "      <td>Unknown</td>\n",
       "      <td>1.8</td>\n",
       "      <td>5.0</td>\n",
       "      <td>1599.00</td>\n",
       "    </tr>\n",
       "    <tr>\n",
       "      <th>3</th>\n",
       "      <td>Apple</td>\n",
       "      <td>MacBook Air</td>\n",
       "      <td>13.30</td>\n",
       "      <td>Silver</td>\n",
       "      <td>256.0</td>\n",
       "      <td>Unknown</td>\n",
       "      <td>8.0</td>\n",
       "      <td>Mac OS</td>\n",
       "      <td>Backlit Keyboard</td>\n",
       "      <td>Integrated</td>\n",
       "      <td>Unknown</td>\n",
       "      <td>NaN</td>\n",
       "      <td>4.8</td>\n",
       "      <td>689.99</td>\n",
       "    </tr>\n",
       "    <tr>\n",
       "      <th>4</th>\n",
       "      <td>Apple</td>\n",
       "      <td>MacBook Air</td>\n",
       "      <td>15.30</td>\n",
       "      <td>Midnight</td>\n",
       "      <td>256.0</td>\n",
       "      <td>Unknown</td>\n",
       "      <td>8.0</td>\n",
       "      <td>Mac OS</td>\n",
       "      <td>Unknown</td>\n",
       "      <td>Integrated</td>\n",
       "      <td>Unknown</td>\n",
       "      <td>NaN</td>\n",
       "      <td>4.8</td>\n",
       "      <td>1144.48</td>\n",
       "    </tr>\n",
       "  </tbody>\n",
       "</table>\n",
       "</div>"
      ],
      "text/plain": [
       "   brand                  model  screen_size_inch       color  harddisk_GB  \\\n",
       "0   ROKC                Unknown             14.00        Blue       1000.0   \n",
       "1     HP                Unknown             15.60      Silver       1000.0   \n",
       "2    MSI  Vector GP66 12UGS-267             15.66  Core Black          NaN   \n",
       "3  Apple            MacBook Air             13.30      Silver        256.0   \n",
       "4  Apple            MacBook Air             15.30    Midnight        256.0   \n",
       "\n",
       "             cpu  ram_GB               OS  special_features    graphics  \\\n",
       "0  Intel Core i7     8.0       Windows 11           Unknown  Integrated   \n",
       "1  Intel Core i5    64.0   Windows 11 Pro  Backlit Keyboard  Integrated   \n",
       "2  Intel Core i9    32.0  Windows 11 Home           Unknown   Dedicated   \n",
       "3        Unknown     8.0           Mac OS  Backlit Keyboard  Integrated   \n",
       "4        Unknown     8.0           Mac OS           Unknown  Integrated   \n",
       "\n",
       "  graphics_coprocessor  cpu_speed_GHz  rating  price_$  \n",
       "0                Intel            1.2     NaN   589.99  \n",
       "1                Intel            NaN     4.5   999.99  \n",
       "2              Unknown            1.8     5.0  1599.00  \n",
       "3              Unknown            NaN     4.8   689.99  \n",
       "4              Unknown            NaN     4.8  1144.48  "
      ]
     },
     "execution_count": 17,
     "metadata": {},
     "output_type": "execute_result"
    }
   ],
   "source": [
    "#if comp_df['graphics_coprocessor'].str.contains(\"NaN\"):\n",
    "comp_df['model'].fillna(\"Unknown\", inplace = True)\n",
    "comp_df['color'].fillna(\"Unknown\", inplace = True)\n",
    "comp_df['cpu'].fillna(\"Unknown\", inplace = True)\n",
    "comp_df['OS'].fillna(\"Unknown\", inplace = True)\n",
    "comp_df['special_features'].fillna(\"Unknown\", inplace = True)\n",
    "comp_df['graphics'].fillna(\"Unknown\", inplace = True)\n",
    "comp_df['graphics_coprocessor'].fillna(\"Unknown\", inplace=True)\n",
    "\n",
    "comp_df.head()"
   ]
  },
  {
   "cell_type": "code",
   "execution_count": 18,
   "id": "3a080224-8878-48b9-8035-4e158e53ad46",
   "metadata": {},
   "outputs": [
    {
     "data": {
      "text/plain": [
       "brand                      0\n",
       "model                      0\n",
       "screen_size_inch          29\n",
       "color                      0\n",
       "harddisk_GB              576\n",
       "cpu                        0\n",
       "ram_GB                    61\n",
       "OS                         0\n",
       "special_features           0\n",
       "graphics                   0\n",
       "graphics_coprocessor       0\n",
       "cpu_speed_GHz           2926\n",
       "rating                  2272\n",
       "price_$                    5\n",
       "dtype: int64"
      ]
     },
     "execution_count": 18,
     "metadata": {},
     "output_type": "execute_result"
    }
   ],
   "source": [
    "comp_df.isnull().sum()"
   ]
  },
  {
   "cell_type": "code",
   "execution_count": 19,
   "id": "a2c47b71-2a7b-4163-9e98-9cb1b790c35f",
   "metadata": {},
   "outputs": [
    {
     "data": {
      "text/html": [
       "<div>\n",
       "<style scoped>\n",
       "    .dataframe tbody tr th:only-of-type {\n",
       "        vertical-align: middle;\n",
       "    }\n",
       "\n",
       "    .dataframe tbody tr th {\n",
       "        vertical-align: top;\n",
       "    }\n",
       "\n",
       "    .dataframe thead th {\n",
       "        text-align: right;\n",
       "    }\n",
       "</style>\n",
       "<table border=\"1\" class=\"dataframe\">\n",
       "  <thead>\n",
       "    <tr style=\"text-align: right;\">\n",
       "      <th></th>\n",
       "      <th>screen_size_inch</th>\n",
       "      <th>harddisk_GB</th>\n",
       "      <th>ram_GB</th>\n",
       "      <th>cpu_speed_GHz</th>\n",
       "      <th>rating</th>\n",
       "      <th>price_$</th>\n",
       "    </tr>\n",
       "  </thead>\n",
       "  <tbody>\n",
       "    <tr>\n",
       "      <th>count</th>\n",
       "      <td>4417.000000</td>\n",
       "      <td>3870.000000</td>\n",
       "      <td>4385.000000</td>\n",
       "      <td>1520.000000</td>\n",
       "      <td>2174.000000</td>\n",
       "      <td>4441.000000</td>\n",
       "    </tr>\n",
       "    <tr>\n",
       "      <th>mean</th>\n",
       "      <td>15.074589</td>\n",
       "      <td>719.133959</td>\n",
       "      <td>23.965562</td>\n",
       "      <td>11.156717</td>\n",
       "      <td>4.086891</td>\n",
       "      <td>1189.330016</td>\n",
       "    </tr>\n",
       "    <tr>\n",
       "      <th>std</th>\n",
       "      <td>1.190357</td>\n",
       "      <td>802.328201</td>\n",
       "      <td>17.328353</td>\n",
       "      <td>253.715060</td>\n",
       "      <td>1.165337</td>\n",
       "      <td>826.022711</td>\n",
       "    </tr>\n",
       "    <tr>\n",
       "      <th>min</th>\n",
       "      <td>10.000000</td>\n",
       "      <td>1.000000</td>\n",
       "      <td>1.000000</td>\n",
       "      <td>0.900000</td>\n",
       "      <td>1.000000</td>\n",
       "      <td>57.990000</td>\n",
       "    </tr>\n",
       "    <tr>\n",
       "      <th>25%</th>\n",
       "      <td>14.000000</td>\n",
       "      <td>256.000000</td>\n",
       "      <td>16.000000</td>\n",
       "      <td>1.100000</td>\n",
       "      <td>4.000000</td>\n",
       "      <td>589.990000</td>\n",
       "    </tr>\n",
       "    <tr>\n",
       "      <th>50%</th>\n",
       "      <td>15.600000</td>\n",
       "      <td>512.000000</td>\n",
       "      <td>16.000000</td>\n",
       "      <td>1.200000</td>\n",
       "      <td>4.500000</td>\n",
       "      <td>999.990000</td>\n",
       "    </tr>\n",
       "    <tr>\n",
       "      <th>75%</th>\n",
       "      <td>15.600000</td>\n",
       "      <td>1000.000000</td>\n",
       "      <td>32.000000</td>\n",
       "      <td>1.800000</td>\n",
       "      <td>5.000000</td>\n",
       "      <td>1612.990000</td>\n",
       "    </tr>\n",
       "    <tr>\n",
       "      <th>max</th>\n",
       "      <td>27.000000</td>\n",
       "      <td>8000.000000</td>\n",
       "      <td>128.000000</td>\n",
       "      <td>9120.000000</td>\n",
       "      <td>5.000000</td>\n",
       "      <td>11261.240000</td>\n",
       "    </tr>\n",
       "  </tbody>\n",
       "</table>\n",
       "</div>"
      ],
      "text/plain": [
       "       screen_size_inch  harddisk_GB       ram_GB  cpu_speed_GHz       rating  \\\n",
       "count       4417.000000  3870.000000  4385.000000    1520.000000  2174.000000   \n",
       "mean          15.074589   719.133959    23.965562      11.156717     4.086891   \n",
       "std            1.190357   802.328201    17.328353     253.715060     1.165337   \n",
       "min           10.000000     1.000000     1.000000       0.900000     1.000000   \n",
       "25%           14.000000   256.000000    16.000000       1.100000     4.000000   \n",
       "50%           15.600000   512.000000    16.000000       1.200000     4.500000   \n",
       "75%           15.600000  1000.000000    32.000000       1.800000     5.000000   \n",
       "max           27.000000  8000.000000   128.000000    9120.000000     5.000000   \n",
       "\n",
       "            price_$  \n",
       "count   4441.000000  \n",
       "mean    1189.330016  \n",
       "std      826.022711  \n",
       "min       57.990000  \n",
       "25%      589.990000  \n",
       "50%      999.990000  \n",
       "75%     1612.990000  \n",
       "max    11261.240000  "
      ]
     },
     "execution_count": 19,
     "metadata": {},
     "output_type": "execute_result"
    }
   ],
   "source": [
    "comp_df.describe()"
   ]
  },
  {
   "cell_type": "code",
   "execution_count": 20,
   "id": "4d3e9603-a850-48a8-8b6e-af31bb8831f7",
   "metadata": {},
   "outputs": [
    {
     "name": "stdout",
     "output_type": "stream",
     "text": [
      "<class 'pandas.core.frame.DataFrame'>\n",
      "RangeIndex: 4446 entries, 0 to 4445\n",
      "Data columns (total 14 columns):\n",
      " #   Column                Non-Null Count  Dtype  \n",
      "---  ------                --------------  -----  \n",
      " 0   brand                 4446 non-null   object \n",
      " 1   model                 4446 non-null   object \n",
      " 2   screen_size_inch      4446 non-null   float64\n",
      " 3   color                 4446 non-null   object \n",
      " 4   harddisk_GB           4446 non-null   float64\n",
      " 5   cpu                   4446 non-null   object \n",
      " 6   ram_GB                4446 non-null   float64\n",
      " 7   OS                    4446 non-null   object \n",
      " 8   special_features      4446 non-null   object \n",
      " 9   graphics              4446 non-null   object \n",
      " 10  graphics_coprocessor  4446 non-null   object \n",
      " 11  cpu_speed_GHz         4446 non-null   float64\n",
      " 12  rating                4446 non-null   float64\n",
      " 13  price_$               4446 non-null   float64\n",
      "dtypes: float64(6), object(8)\n",
      "memory usage: 486.4+ KB\n"
     ]
    }
   ],
   "source": [
    "for columns in comp_df.columns:\n",
    "    if comp_df[columns].isna().any():\n",
    "        mean = comp_df[columns].mean()\n",
    "        comp_df[columns].fillna(mean, inplace = True)\n",
    "\n",
    "comp_df.info()"
   ]
  },
  {
   "cell_type": "code",
   "execution_count": 21,
   "id": "9a565b1c-2af2-419e-91b0-b243adfc702f",
   "metadata": {},
   "outputs": [
    {
     "data": {
      "text/plain": [
       "brand                   0\n",
       "model                   0\n",
       "screen_size_inch        0\n",
       "color                   0\n",
       "harddisk_GB             0\n",
       "cpu                     0\n",
       "ram_GB                  0\n",
       "OS                      0\n",
       "special_features        0\n",
       "graphics                0\n",
       "graphics_coprocessor    0\n",
       "cpu_speed_GHz           0\n",
       "rating                  0\n",
       "price_$                 0\n",
       "dtype: int64"
      ]
     },
     "execution_count": 21,
     "metadata": {},
     "output_type": "execute_result"
    }
   ],
   "source": [
    "comp_df.isnull().sum()"
   ]
  },
  {
   "cell_type": "code",
   "execution_count": 22,
   "id": "ef0fde3a-6d30-4add-a1f5-797c450a3b1e",
   "metadata": {},
   "outputs": [
    {
     "name": "stdout",
     "output_type": "stream",
     "text": [
      "<class 'pandas.core.frame.DataFrame'>\n",
      "RangeIndex: 4446 entries, 0 to 4445\n",
      "Data columns (total 14 columns):\n",
      " #   Column                Non-Null Count  Dtype \n",
      "---  ------                --------------  ----- \n",
      " 0   brand                 4446 non-null   object\n",
      " 1   model                 4446 non-null   object\n",
      " 2   screen_size_inch      4446 non-null   int32 \n",
      " 3   color                 4446 non-null   object\n",
      " 4   harddisk_GB           4446 non-null   int32 \n",
      " 5   cpu                   4446 non-null   object\n",
      " 6   ram_GB                4446 non-null   int32 \n",
      " 7   OS                    4446 non-null   object\n",
      " 8   special_features      4446 non-null   object\n",
      " 9   graphics              4446 non-null   object\n",
      " 10  graphics_coprocessor  4446 non-null   object\n",
      " 11  cpu_speed_GHz         4446 non-null   int32 \n",
      " 12  rating                4446 non-null   int32 \n",
      " 13  price_$               4446 non-null   int32 \n",
      "dtypes: int32(6), object(8)\n",
      "memory usage: 382.2+ KB\n"
     ]
    }
   ],
   "source": [
    "for columns in comp_df.columns:\n",
    "    if comp_df[columns].dtype == \"float64\":\n",
    "        comp_df[columns] = comp_df[columns].astype(\"int32\")\n",
    "        \n",
    "comp_df.info()"
   ]
  },
  {
   "cell_type": "code",
   "execution_count": 23,
   "id": "9917dee3-5738-48b0-b518-82a5a747eb4c",
   "metadata": {},
   "outputs": [
    {
     "data": {
      "text/plain": [
       "Dell                             1581\n",
       "HP                                804\n",
       "ROKC                              637\n",
       "MSI                               473\n",
       "Lenovo                            308\n",
       "ASUS                              160\n",
       "DELL                              147\n",
       "acer                              108\n",
       "LG                                 39\n",
       "Apple                              29\n",
       "SAMSUNG                            23\n",
       "Microsoft                          15\n",
       "Alienware                          14\n",
       "Panasonic                          12\n",
       "Acer                               11\n",
       "Gigabyte                           11\n",
       "Toughbook                          11\n",
       "hp                                  6\n",
       "Razer                               6\n",
       "LENOVO                              6\n",
       "lenovo                              4\n",
       "Latitude                            3\n",
       "Luqeeg                              3\n",
       "SHOXLAB                             2\n",
       "CTL                                 2\n",
       "Computer Upgrade King               2\n",
       "dell                                2\n",
       "IVIEW                               2\n",
       "Quality Refurbished Computers       2\n",
       "Asus                                2\n",
       "Gateway                             2\n",
       "Elo                                 1\n",
       "Mytrix                              1\n",
       "JTD                                 1\n",
       "XAMMUE                              1\n",
       "asus                                1\n",
       "Tocosy                              1\n",
       "MAINGEAR                            1\n",
       "GizPro                              1\n",
       "Carlisle FoodService Products       1\n",
       "MICROTELLA                          1\n",
       "XPG                                 1\n",
       "VAIO                                1\n",
       "ONN                                 1\n",
       "Corsair                             1\n",
       "Goldengulf                          1\n",
       "LPT                                 1\n",
       "Best Notebooks                      1\n",
       "AWOW                                1\n",
       "TOPOSH                              1\n",
       "Name: brand, dtype: int64"
      ]
     },
     "execution_count": 23,
     "metadata": {},
     "output_type": "execute_result"
    }
   ],
   "source": [
    "comp_df.brand.value_counts()"
   ]
  },
  {
   "cell_type": "code",
   "execution_count": 24,
   "id": "85f800b0-0ea7-4404-9f04-6695f8db827e",
   "metadata": {},
   "outputs": [
    {
     "data": {
      "text/plain": [
       "DELL                             1730\n",
       "HP                                810\n",
       "ROKC                              637\n",
       "MSI                               473\n",
       "LENOVO                            318\n",
       "ASUS                              163\n",
       "ACER                              119\n",
       "LG                                 39\n",
       "APPLE                              29\n",
       "SAMSUNG                            23\n",
       "MICROSOFT                          15\n",
       "ALIENWARE                          14\n",
       "PANASONIC                          12\n",
       "GIGABYTE                           11\n",
       "TOUGHBOOK                          11\n",
       "RAZER                               6\n",
       "LUQEEG                              3\n",
       "LATITUDE                            3\n",
       "SHOXLAB                             2\n",
       "CTL                                 2\n",
       "COMPUTER UPGRADE KING               2\n",
       "IVIEW                               2\n",
       "QUALITY REFURBISHED COMPUTERS       2\n",
       "GATEWAY                             2\n",
       "XPG                                 1\n",
       "MYTRIX                              1\n",
       "JTD                                 1\n",
       "XAMMUE                              1\n",
       "TOCOSY                              1\n",
       "MAINGEAR                            1\n",
       "GIZPRO                              1\n",
       "ELO                                 1\n",
       "MICROTELLA                          1\n",
       "CARLISLE FOODSERVICE PRODUCTS       1\n",
       "VAIO                                1\n",
       "CORSAIR                             1\n",
       "ONN                                 1\n",
       "GOLDENGULF                          1\n",
       "LPT                                 1\n",
       "BEST NOTEBOOKS                      1\n",
       "AWOW                                1\n",
       "TOPOSH                              1\n",
       "Name: brand, dtype: int64"
      ]
     },
     "execution_count": 24,
     "metadata": {},
     "output_type": "execute_result"
    }
   ],
   "source": [
    "for columns in comp_df.columns :\n",
    "    if comp_df[columns].dtype == \"object\":\n",
    "        comp_df[columns] = comp_df[columns].str.upper()\n",
    "        \n",
    "comp_df['brand'].value_counts()"
   ]
  },
  {
   "cell_type": "code",
   "execution_count": 25,
   "id": "52d1e328-7a5a-497e-af24-26b6060818ba",
   "metadata": {},
   "outputs": [
    {
     "data": {
      "image/png": "[encoded data removed]",
      "text/plain": [
       "<Figure size 1000x600 with 1 Axes>"
      ]
     },
     "metadata": {},
     "output_type": "display_data"
    },
    {
     "data": {
      "image/png": "[encoded data removed]",
      "text/plain": [
       "<Figure size 1000x600 with 1 Axes>"
      ]
     },
     "metadata": {},
     "output_type": "display_data"
    },
    {
     "data": {
      "image/png": "[encoded data removed]",
      "text/plain": [
       "<Figure size 1000x600 with 1 Axes>"
      ]
     },
     "metadata": {},
     "output_type": "display_data"
    },
    {
     "data": {
      "image/png": "[encoded data removed]",
      "text/plain": [
       "<Figure size 1000x600 with 1 Axes>"
      ]
     },
     "metadata": {},
     "output_type": "display_data"
    },
    {
     "data": {
      "image/png": "[encoded data removed]",
      "text/plain": [
       "<Figure size 1000x600 with 1 Axes>"
      ]
     },
     "metadata": {},
     "output_type": "display_data"
    },
    {
     "data": {
      "image/png": "[encoded data removed]",
      "text/plain": [
       "<Figure size 1000x600 with 1 Axes>"
      ]
     },
     "metadata": {},
     "output_type": "display_data"
    }
   ],
   "source": [
    "colours = ['r','b', 'm', 'y', 'g', 'c']\n",
    "\n",
    "for i,col in enumerate(comp_df.columns):\n",
    "    import warnings\n",
    "    warnings.filterwarnings('ignore')\n",
    "    if comp_df[col].dtype == \"int32\":\n",
    "        plt.figure(figsize=(10,6))\n",
    "        sns.distplot(comp_df[col], bins = 10, color = colours[i % len(colours)])\n",
    "        plt.grid()\n",
    "        plt.title(f'Distribution Plot for {col}')\n",
    "        plt.xlabel(col)\n",
    "        plt.ylabel('Frequency')\n",
    "        plt.show()"
   ]
  },
  {
   "cell_type": "code",
   "execution_count": 26,
   "id": "a94de08e-c054-4c78-9085-76c4d769b4ac",
   "metadata": {},
   "outputs": [
    {
     "data": {
      "text/plain": [
       "Index(['brand', 'model', 'screen_size_inch', 'color', 'harddisk_GB', 'cpu',\n",
       "       'ram_GB', 'OS', 'special_features', 'graphics', 'graphics_coprocessor',\n",
       "       'cpu_speed_GHz', 'rating', 'price_$'],\n",
       "      dtype='object')"
      ]
     },
     "execution_count": 26,
     "metadata": {},
     "output_type": "execute_result"
    }
   ],
   "source": [
    "comp_df.columns"
   ]
  },
  {
   "cell_type": "markdown",
   "id": "b3afdab1-24d2-40da-a8bc-6880b7b423a7",
   "metadata": {},
   "source": [
    "# Exploratory Data Analysis :"
   ]
  },
  {
   "cell_type": "code",
   "execution_count": 27,
   "id": "7203fb84-5c5a-43b8-a629-950396e1ead1",
   "metadata": {},
   "outputs": [
    {
     "name": "stdout",
     "output_type": "stream",
     "text": [
      "First Five details of the dataset : \n",
      "    brand                  model  screen_size_inch       color  harddisk_GB  \\\n",
      "0   ROKC                UNKNOWN                14        BLUE         1000   \n",
      "1     HP                UNKNOWN                15      SILVER         1000   \n",
      "2    MSI  VECTOR GP66 12UGS-267                15  CORE BLACK          719   \n",
      "3  APPLE            MACBOOK AIR                13      SILVER          256   \n",
      "4  APPLE            MACBOOK AIR                15    MIDNIGHT          256   \n",
      "\n",
      "             cpu  ram_GB               OS  special_features    graphics  \\\n",
      "0  INTEL CORE I7       8       WINDOWS 11           UNKNOWN  INTEGRATED   \n",
      "1  INTEL CORE I5      64   WINDOWS 11 PRO  BACKLIT KEYBOARD  INTEGRATED   \n",
      "2  INTEL CORE I9      32  WINDOWS 11 HOME           UNKNOWN   DEDICATED   \n",
      "3        UNKNOWN       8           MAC OS  BACKLIT KEYBOARD  INTEGRATED   \n",
      "4        UNKNOWN       8           MAC OS           UNKNOWN  INTEGRATED   \n",
      "\n",
      "  graphics_coprocessor  cpu_speed_GHz  rating  price_$  \n",
      "0                INTEL              1       4      589  \n",
      "1                INTEL             11       4      999  \n",
      "2              UNKNOWN              1       5     1599  \n",
      "3              UNKNOWN             11       4      689  \n",
      "4              UNKNOWN             11       4     1144  \n"
     ]
    }
   ],
   "source": [
    "print(\"First Five details of the dataset : \\n\", comp_df.head()) "
   ]
  },
  {
   "cell_type": "code",
   "execution_count": 28,
   "id": "b0078e83-c48c-4ae8-ac4a-6484cef30fa9",
   "metadata": {},
   "outputs": [
    {
     "name": "stdout",
     "output_type": "stream",
     "text": [
      "Last Five details of the dataset : \n",
      "      brand                   model  screen_size_inch       color  harddisk_GB  \\\n",
      "4441   MSI  STEALTH GS66 12UGS-025                15  CORE BLACK          719   \n",
      "4442  ROKC                 UNKNOWN                14        BLUE         1000   \n",
      "4443  DELL    INSPIRON 3511 LAPTOP                15       BLACK          512   \n",
      "4444  DELL    LATITUDE 3420 LAPTOP                14     UNKNOWN          512   \n",
      "4445  DELL    LATITUDE 5430 LAPTOP                14       BLACK          256   \n",
      "\n",
      "                cpu  ram_GB               OS  special_features    graphics  \\\n",
      "4441  INTEL CORE I9      32  WINDOWS 11 HOME           UNKNOWN   DEDICATED   \n",
      "4442  INTEL CORE I7       8       WINDOWS 11           UNKNOWN  INTEGRATED   \n",
      "4443        CORE I3       8  WINDOWS 10 HOME  WIFI & BLUETOOTH  INTEGRATED   \n",
      "4444        CORE I5       8   WINDOWS 10 PRO           UNKNOWN  INTEGRATED   \n",
      "4445        CORE I5      23   WINDOWS 11 PRO           UNKNOWN  INTEGRATED   \n",
      "\n",
      "           graphics_coprocessor  cpu_speed_GHz  rating  price_$  \n",
      "4441    NVIDIA GEFORCE RTX 3070              1       1     1699  \n",
      "4442                      INTEL              1       4      589  \n",
      "4443                    UNKNOWN             11       4      591  \n",
      "4444  INTEL INTEGRATED GRAPHICS              0       4     1771  \n",
      "4445  INTEL INTEGRATED GRAPHICS              3       4      938  \n"
     ]
    }
   ],
   "source": [
    "print(\"Last Five details of the dataset : \\n\", comp_df.tail()) "
   ]
  },
  {
   "cell_type": "code",
   "execution_count": 29,
   "id": "835eb6b6-e83d-4096-97e3-ab22c628c435",
   "metadata": {},
   "outputs": [
    {
     "name": "stdout",
     "output_type": "stream",
     "text": [
      "The number of rows and columns in the dataset is : 4446 and 14\n"
     ]
    }
   ],
   "source": [
    "print(\"The number of rows and columns in the dataset is : {} and {}\".format(comp_df.shape[0], comp_df.shape[1]))"
   ]
  },
  {
   "cell_type": "code",
   "execution_count": 30,
   "id": "48cde456-ab02-4d2b-b7ca-fd97d2d9f2e5",
   "metadata": {},
   "outputs": [
    {
     "name": "stdout",
     "output_type": "stream",
     "text": [
      "The descriptive statistics of the dataset is : \n",
      "        brand    model  screen_size_inch  color  harddisk_GB      cpu  \\\n",
      "count   4446     4446       4446.000000   4446  4446.000000     4446   \n",
      "unique    42     1059               NaN    176          NaN      141   \n",
      "top     DELL  UNKNOWN               NaN  BLACK          NaN  CORE I7   \n",
      "freq    1730     1164               NaN   1172          NaN      828   \n",
      "mean     NaN      NaN         14.731444    NaN   719.116284      NaN   \n",
      "std      NaN      NaN          1.133332    NaN   748.541216      NaN   \n",
      "min      NaN      NaN         10.000000    NaN     1.000000      NaN   \n",
      "25%      NaN      NaN         14.000000    NaN   256.000000      NaN   \n",
      "50%      NaN      NaN         15.000000    NaN   719.000000      NaN   \n",
      "75%      NaN      NaN         15.000000    NaN  1000.000000      NaN   \n",
      "max      NaN      NaN         27.000000    NaN  8000.000000      NaN   \n",
      "\n",
      "             ram_GB          OS special_features    graphics  \\\n",
      "count   4446.000000        4446             4446        4446   \n",
      "unique          NaN          48              185         110   \n",
      "top             NaN  WINDOWS 11          UNKNOWN  INTEGRATED   \n",
      "freq            NaN        1199             2392        3021   \n",
      "mean      23.952092         NaN              NaN         NaN   \n",
      "std       17.209310         NaN              NaN         NaN   \n",
      "min        1.000000         NaN              NaN         NaN   \n",
      "25%       16.000000         NaN              NaN         NaN   \n",
      "50%       16.000000         NaN              NaN         NaN   \n",
      "75%       32.000000         NaN              NaN         NaN   \n",
      "max      128.000000         NaN              NaN         NaN   \n",
      "\n",
      "       graphics_coprocessor  cpu_speed_GHz       rating       price_$  \n",
      "count                  4446    4446.000000  4446.000000   4446.000000  \n",
      "unique                  206            NaN          NaN           NaN  \n",
      "top                 UNKNOWN            NaN          NaN           NaN  \n",
      "freq                   1872            NaN          NaN           NaN  \n",
      "mean                    NaN      10.925776     3.903509   1188.659919  \n",
      "std                     NaN     148.324528     0.813221    825.675980  \n",
      "min                     NaN       0.000000     1.000000     57.000000  \n",
      "25%                     NaN       1.000000     4.000000    589.000000  \n",
      "50%                     NaN      11.000000     4.000000    999.000000  \n",
      "75%                     NaN      11.000000     4.000000   1605.750000  \n",
      "max                     NaN    9120.000000     5.000000  11261.000000  \n"
     ]
    }
   ],
   "source": [
    "print(\"The descriptive statistics of the dataset is : \\n\", comp_df.describe(include = 'all'))"
   ]
  },
  {
   "cell_type": "code",
   "execution_count": 31,
   "id": "3207993e-c701-45a4-875c-72c2b6a29490",
   "metadata": {},
   "outputs": [],
   "source": [
    "#comp_df.to_csv(\"comp_df_backup.csv\", index = False)"
   ]
  },
  {
   "cell_type": "code",
   "execution_count": 32,
   "id": "fa385aae-1214-40be-816f-9bb2363c9253",
   "metadata": {},
   "outputs": [
    {
     "data": {
      "text/plain": [
       "DELL                             1730\n",
       "HP                                810\n",
       "ROKC                              637\n",
       "MSI                               473\n",
       "LENOVO                            318\n",
       "ASUS                              163\n",
       "ACER                              119\n",
       "LG                                 39\n",
       "APPLE                              29\n",
       "SAMSUNG                            23\n",
       "MICROSOFT                          15\n",
       "ALIENWARE                          14\n",
       "PANASONIC                          12\n",
       "GIGABYTE                           11\n",
       "TOUGHBOOK                          11\n",
       "RAZER                               6\n",
       "LUQEEG                              3\n",
       "LATITUDE                            3\n",
       "SHOXLAB                             2\n",
       "CTL                                 2\n",
       "COMPUTER UPGRADE KING               2\n",
       "IVIEW                               2\n",
       "QUALITY REFURBISHED COMPUTERS       2\n",
       "GATEWAY                             2\n",
       "XPG                                 1\n",
       "MYTRIX                              1\n",
       "JTD                                 1\n",
       "XAMMUE                              1\n",
       "TOCOSY                              1\n",
       "MAINGEAR                            1\n",
       "GIZPRO                              1\n",
       "ELO                                 1\n",
       "MICROTELLA                          1\n",
       "CARLISLE FOODSERVICE PRODUCTS       1\n",
       "VAIO                                1\n",
       "CORSAIR                             1\n",
       "ONN                                 1\n",
       "GOLDENGULF                          1\n",
       "LPT                                 1\n",
       "BEST NOTEBOOKS                      1\n",
       "AWOW                                1\n",
       "TOPOSH                              1\n",
       "Name: brand, dtype: int64"
      ]
     },
     "execution_count": 32,
     "metadata": {},
     "output_type": "execute_result"
    }
   ],
   "source": [
    "comp_df.brand.value_counts()"
   ]
  },
  {
   "cell_type": "markdown",
   "id": "761c8965-102d-408e-b42f-0e9aa8de2d25",
   "metadata": {},
   "source": [
    "### Seperating the laptop brands and exporting to a folder :\n",
    "    "
   ]
  },
  {
   "cell_type": "raw",
   "id": "fe320190-472c-4c68-8682-f5bd3c80983d",
   "metadata": {},
   "source": [
    "import os\n",
    "output_folder = 'brand_data'\n",
    "os.makedirs(output_folder, exist_ok=True)\n",
    "\n",
    "\n",
    "for elem in comp_df.brand:\n",
    "    brand_data = comp_df[comp_df['brand'] == elem]\n",
    "    output_file = os.path.join(output_folder, f'{elem}.csv')\n",
    "    brand_data.to_csv(output_file, index=False)"
   ]
  },
  {
   "cell_type": "markdown",
   "id": "8a9512ef-7f3f-4d65-90f7-94f217c64832",
   "metadata": {},
   "source": [
    "### Grouping and Pivot Table :"
   ]
  },
  {
   "cell_type": "code",
   "execution_count": 33,
   "id": "d16870e4-83b3-449f-8b22-36b880010030",
   "metadata": {},
   "outputs": [
    {
     "data": {
      "text/html": [
       "<div>\n",
       "<style scoped>\n",
       "    .dataframe tbody tr th:only-of-type {\n",
       "        vertical-align: middle;\n",
       "    }\n",
       "\n",
       "    .dataframe tbody tr th {\n",
       "        vertical-align: top;\n",
       "    }\n",
       "\n",
       "    .dataframe thead tr th {\n",
       "        text-align: left;\n",
       "    }\n",
       "\n",
       "    .dataframe thead tr:last-of-type th {\n",
       "        text-align: right;\n",
       "    }\n",
       "</style>\n",
       "<table border=\"1\" class=\"dataframe\">\n",
       "  <thead>\n",
       "    <tr>\n",
       "      <th></th>\n",
       "      <th></th>\n",
       "      <th>price_$</th>\n",
       "      <th colspan=\"2\" halign=\"left\">rating</th>\n",
       "    </tr>\n",
       "    <tr>\n",
       "      <th></th>\n",
       "      <th></th>\n",
       "      <th>mean</th>\n",
       "      <th>mean</th>\n",
       "      <th>count</th>\n",
       "    </tr>\n",
       "    <tr>\n",
       "      <th>brand</th>\n",
       "      <th>OS</th>\n",
       "      <th></th>\n",
       "      <th></th>\n",
       "      <th></th>\n",
       "    </tr>\n",
       "  </thead>\n",
       "  <tbody>\n",
       "    <tr>\n",
       "      <th>ROKC</th>\n",
       "      <th>WINDOWS 11</th>\n",
       "      <td>543.496855</td>\n",
       "      <td>4.276730</td>\n",
       "      <td>636</td>\n",
       "    </tr>\n",
       "    <tr>\n",
       "      <th>DELL</th>\n",
       "      <th>WINDOWS 11 PRO</th>\n",
       "      <td>1769.749495</td>\n",
       "      <td>3.995960</td>\n",
       "      <td>495</td>\n",
       "    </tr>\n",
       "    <tr>\n",
       "      <th>MSI</th>\n",
       "      <th>WINDOWS 11 HOME</th>\n",
       "      <td>1660.009732</td>\n",
       "      <td>3.072993</td>\n",
       "      <td>411</td>\n",
       "    </tr>\n",
       "    <tr>\n",
       "      <th>DELL</th>\n",
       "      <th>WINDOWS 11 HOME</th>\n",
       "      <td>1723.620253</td>\n",
       "      <td>3.994937</td>\n",
       "      <td>395</td>\n",
       "    </tr>\n",
       "    <tr>\n",
       "      <th>HP</th>\n",
       "      <th>WINDOWS 11</th>\n",
       "      <td>443.260606</td>\n",
       "      <td>4.003030</td>\n",
       "      <td>330</td>\n",
       "    </tr>\n",
       "  </tbody>\n",
       "</table>\n",
       "</div>"
      ],
      "text/plain": [
       "                           price_$    rating      \n",
       "                              mean      mean count\n",
       "brand OS                                          \n",
       "ROKC  WINDOWS 11        543.496855  4.276730   636\n",
       "DELL  WINDOWS 11 PRO   1769.749495  3.995960   495\n",
       "MSI   WINDOWS 11 HOME  1660.009732  3.072993   411\n",
       "DELL  WINDOWS 11 HOME  1723.620253  3.994937   395\n",
       "HP    WINDOWS 11        443.260606  4.003030   330"
      ]
     },
     "execution_count": 33,
     "metadata": {},
     "output_type": "execute_result"
    }
   ],
   "source": [
    "# Top 5 brands and OS based on the customer rating.\n",
    "\n",
    "comp_df.groupby(['brand', 'OS']).agg({'price_$' : ['mean'], 'rating' : ['mean','count']}).sort_values(by = ('rating','count'), ascending = False).head(5)"
   ]
  },
  {
   "cell_type": "code",
   "execution_count": 34,
   "id": "146f32e7-89a9-4504-8866-9f745c8ce069",
   "metadata": {},
   "outputs": [
    {
     "data": {
      "text/html": [
       "<div>\n",
       "<style scoped>\n",
       "    .dataframe tbody tr th:only-of-type {\n",
       "        vertical-align: middle;\n",
       "    }\n",
       "\n",
       "    .dataframe tbody tr th {\n",
       "        vertical-align: top;\n",
       "    }\n",
       "\n",
       "    .dataframe thead th {\n",
       "        text-align: right;\n",
       "    }\n",
       "</style>\n",
       "<table border=\"1\" class=\"dataframe\">\n",
       "  <thead>\n",
       "    <tr style=\"text-align: right;\">\n",
       "      <th></th>\n",
       "      <th></th>\n",
       "      <th></th>\n",
       "      <th></th>\n",
       "      <th></th>\n",
       "      <th>price_$</th>\n",
       "    </tr>\n",
       "    <tr>\n",
       "      <th>brand</th>\n",
       "      <th>OS</th>\n",
       "      <th>graphics</th>\n",
       "      <th>ram_GB</th>\n",
       "      <th>harddisk_GB</th>\n",
       "      <th></th>\n",
       "    </tr>\n",
       "  </thead>\n",
       "  <tbody>\n",
       "    <tr>\n",
       "      <th>DELL</th>\n",
       "      <th>WINDOWS 11 PRO</th>\n",
       "      <th>NVIDIA GEFORCE RTX 3050 TI</th>\n",
       "      <th>16</th>\n",
       "      <th>1000</th>\n",
       "      <td>11261.0</td>\n",
       "    </tr>\n",
       "    <tr>\n",
       "      <th>MSI</th>\n",
       "      <th>WINDOWS 10 PRO</th>\n",
       "      <th>DEDICATED</th>\n",
       "      <th>64</th>\n",
       "      <th>719</th>\n",
       "      <td>7399.0</td>\n",
       "    </tr>\n",
       "    <tr>\n",
       "      <th>RAZER</th>\n",
       "      <th>WINDOWS 11</th>\n",
       "      <th>RTX 3080 TI</th>\n",
       "      <th>32</th>\n",
       "      <th>1</th>\n",
       "      <td>5599.0</td>\n",
       "    </tr>\n",
       "    <tr>\n",
       "      <th>HP</th>\n",
       "      <th>WINDOWS 11 PRO</th>\n",
       "      <th>RTX A5000,UHD GRAPHICS</th>\n",
       "      <th>64</th>\n",
       "      <th>1</th>\n",
       "      <td>5598.0</td>\n",
       "    </tr>\n",
       "    <tr>\n",
       "      <th>MSI</th>\n",
       "      <th>WINDOWS 11 PRO</th>\n",
       "      <th>INTEGRATED</th>\n",
       "      <th>32</th>\n",
       "      <th>2</th>\n",
       "      <td>5499.0</td>\n",
       "    </tr>\n",
       "    <tr>\n",
       "      <th>APPLE</th>\n",
       "      <th>MACOS 10.14 MOJAVE</th>\n",
       "      <th>INTEGRATED</th>\n",
       "      <th>96</th>\n",
       "      <th>4</th>\n",
       "      <td>5299.0</td>\n",
       "    </tr>\n",
       "    <tr>\n",
       "      <th>DELL</th>\n",
       "      <th>WINDOWS 10 HOME</th>\n",
       "      <th>NVIDIA RTX 2060</th>\n",
       "      <th>32</th>\n",
       "      <th>1</th>\n",
       "      <td>4999.0</td>\n",
       "    </tr>\n",
       "    <tr>\n",
       "      <th>HP</th>\n",
       "      <th>WINDOWS 10 PRO</th>\n",
       "      <th>RTX A5000,UHD GRAPHICS</th>\n",
       "      <th>64</th>\n",
       "      <th>1</th>\n",
       "      <td>4999.0</td>\n",
       "    </tr>\n",
       "    <tr>\n",
       "      <th>BEST NOTEBOOKS</th>\n",
       "      <th>WINDOWS 11 PRO</th>\n",
       "      <th>DEDICATED</th>\n",
       "      <th>64</th>\n",
       "      <th>1</th>\n",
       "      <td>4999.0</td>\n",
       "    </tr>\n",
       "    <tr>\n",
       "      <th>APPLE</th>\n",
       "      <th>MACOS 10.14 MOJAVE</th>\n",
       "      <th>INTEGRATED</th>\n",
       "      <th>64</th>\n",
       "      <th>4</th>\n",
       "      <td>4888.0</td>\n",
       "    </tr>\n",
       "  </tbody>\n",
       "</table>\n",
       "</div>"
      ],
      "text/plain": [
       "                                                                                 price_$\n",
       "brand          OS                 graphics                   ram_GB harddisk_GB         \n",
       "DELL           WINDOWS 11 PRO     NVIDIA GEFORCE RTX 3050 TI 16     1000         11261.0\n",
       "MSI            WINDOWS 10 PRO     DEDICATED                  64     719           7399.0\n",
       "RAZER          WINDOWS 11         RTX 3080 TI                32     1             5599.0\n",
       "HP             WINDOWS 11 PRO     RTX A5000,UHD GRAPHICS     64     1             5598.0\n",
       "MSI            WINDOWS 11 PRO     INTEGRATED                 32     2             5499.0\n",
       "APPLE          MACOS 10.14 MOJAVE INTEGRATED                 96     4             5299.0\n",
       "DELL           WINDOWS 10 HOME    NVIDIA RTX 2060            32     1             4999.0\n",
       "HP             WINDOWS 10 PRO     RTX A5000,UHD GRAPHICS     64     1             4999.0\n",
       "BEST NOTEBOOKS WINDOWS 11 PRO     DEDICATED                  64     1             4999.0\n",
       "APPLE          MACOS 10.14 MOJAVE INTEGRATED                 64     4             4888.0"
      ]
     },
     "execution_count": 34,
     "metadata": {},
     "output_type": "execute_result"
    }
   ],
   "source": [
    "# Top 10 costly laptop brands based on average price :\n",
    "\n",
    "comp_df.groupby(['brand', 'OS', 'graphics', 'ram_GB', 'harddisk_GB']).agg({'price_$' : 'mean'}).sort_values(by = ['price_$'], ascending = False).head(10)"
   ]
  },
  {
   "cell_type": "markdown",
   "id": "c82e0a1b-ede3-406b-978e-c24ce75f9eaa",
   "metadata": {},
   "source": [
    "### Looking futher at the Data for Modeling :"
   ]
  },
  {
   "cell_type": "markdown",
   "id": "1f28d21b-9f2b-49a9-82a9-78a65aee286f",
   "metadata": {},
   "source": [
    "**Now let's have a look at the object type variables.**"
   ]
  },
  {
   "cell_type": "code",
   "execution_count": 35,
   "id": "5f548828-a218-424b-99bd-f5dfc5a6b171",
   "metadata": {},
   "outputs": [
    {
     "name": "stdout",
     "output_type": "stream",
     "text": [
      "<class 'pandas.core.frame.DataFrame'>\n",
      "RangeIndex: 4446 entries, 0 to 4445\n",
      "Data columns (total 14 columns):\n",
      " #   Column                Non-Null Count  Dtype \n",
      "---  ------                --------------  ----- \n",
      " 0   brand                 4446 non-null   object\n",
      " 1   model                 4446 non-null   object\n",
      " 2   screen_size_inch      4446 non-null   int32 \n",
      " 3   color                 4446 non-null   object\n",
      " 4   harddisk_GB           4446 non-null   int32 \n",
      " 5   cpu                   4446 non-null   object\n",
      " 6   ram_GB                4446 non-null   int32 \n",
      " 7   OS                    4446 non-null   object\n",
      " 8   special_features      4446 non-null   object\n",
      " 9   graphics              4446 non-null   object\n",
      " 10  graphics_coprocessor  4446 non-null   object\n",
      " 11  cpu_speed_GHz         4446 non-null   int32 \n",
      " 12  rating                4446 non-null   int32 \n",
      " 13  price_$               4446 non-null   int32 \n",
      "dtypes: int32(6), object(8)\n",
      "memory usage: 382.2+ KB\n"
     ]
    }
   ],
   "source": [
    "comp_df.info()"
   ]
  },
  {
   "cell_type": "code",
   "execution_count": 36,
   "id": "104e0e8a-04ce-4834-9ba0-94c69a89474e",
   "metadata": {},
   "outputs": [
    {
     "data": {
      "text/plain": [
       "Index(['DELL', 'HP', 'ROKC', 'MSI', 'LENOVO', 'ASUS', 'ACER', 'LG', 'APPLE',\n",
       "       'SAMSUNG', 'MICROSOFT', 'ALIENWARE', 'PANASONIC', 'GIGABYTE',\n",
       "       'TOUGHBOOK', 'RAZER', 'LUQEEG', 'LATITUDE', 'SHOXLAB', 'CTL',\n",
       "       'COMPUTER UPGRADE KING', 'IVIEW', 'QUALITY REFURBISHED COMPUTERS',\n",
       "       'GATEWAY', 'XPG', 'MYTRIX', 'JTD', 'XAMMUE', 'TOCOSY', 'MAINGEAR',\n",
       "       'GIZPRO', 'ELO', 'MICROTELLA', 'CARLISLE FOODSERVICE PRODUCTS', 'VAIO',\n",
       "       'CORSAIR', 'ONN', 'GOLDENGULF', 'LPT', 'BEST NOTEBOOKS', 'AWOW',\n",
       "       'TOPOSH'],\n",
       "      dtype='object')"
      ]
     },
     "execution_count": 36,
     "metadata": {},
     "output_type": "execute_result"
    }
   ],
   "source": [
    "comp_df.brand.value_counts().keys()"
   ]
  },
  {
   "cell_type": "code",
   "execution_count": 37,
   "id": "3efca5e1-2c66-4619-8f86-311c35b2be5c",
   "metadata": {},
   "outputs": [
    {
     "data": {
      "text/plain": [
       "Index(['BLACK', 'SILVER', 'UNKNOWN', 'BLUE', 'CORE BLACK', 'GRAY', 'ROSE GOLD',\n",
       "       'PLATINUM SILVER', 'GREY', 'NATURAL SILVER',\n",
       "       ...\n",
       "       'BLACK AND SILVER', 'AI BLUE', 'RGB BACKLIT', 'BEIGE MOUSSE',\n",
       "       'ECLIPSE GREY', 'SILVER/CARBON FIBER', 'ELECTRO PUNK', 'APOLLO',\n",
       "       'THUNDER BALCK', 'ABYSSAL BLACK'],\n",
       "      dtype='object', length=176)"
      ]
     },
     "execution_count": 37,
     "metadata": {},
     "output_type": "execute_result"
    }
   ],
   "source": [
    "comp_df.color.value_counts().keys()"
   ]
  },
  {
   "cell_type": "code",
   "execution_count": 38,
   "id": "9f7fabdd-7085-4a51-8e6f-fd45931d43ad",
   "metadata": {},
   "outputs": [
    {
     "data": {
      "text/plain": [
       "Index(['CORE I7', 'CORE I5', 'INTEL CORE I5', 'INTEL CORE I9', 'INTEL CORE I7',\n",
       "       'PENTIUM', 'PENTIUM N5000', 'CORE I7 FAMILY', 'CELERON N4000',\n",
       "       'CORE I9',\n",
       "       ...\n",
       "       'CORE I5 2.3 GHZ', 'CORE I5-4210U', 'CORE I5 4310M',\n",
       "       '1.2GHZ CORTEX A13 PROCESSOR', 'CORE I5 7200U',\n",
       "       'A-SERIES DUAL-CORE A4-3300M', 'INTEL CORE I7-1355U', 'CORE I3 8130U',\n",
       "       '68000', 'RYZEN 9 7900X'],\n",
       "      dtype='object', length=141)"
      ]
     },
     "execution_count": 38,
     "metadata": {},
     "output_type": "execute_result"
    }
   ],
   "source": [
    "comp_df.cpu.value_counts().keys()"
   ]
  },
  {
   "cell_type": "code",
   "execution_count": 39,
   "id": "1e4e0308-6c69-4876-beb4-2dc05cb8e875",
   "metadata": {},
   "outputs": [
    {
     "data": {
      "text/plain": [
       "Index(['WINDOWS 11', 'WINDOWS 11 HOME', 'WINDOWS 11 PRO', 'WINDOWS 10 PRO',\n",
       "       'WINDOWS 10 HOME', 'WINDOWS 10', 'CHROME OS', 'UNKNOWN', 'MAC OS',\n",
       "       'WINDOWS 7 PROFESSIONAL', 'WINDOWS 10 S', 'WINDOWS 11 S', 'WINDOWS 7',\n",
       "       'WINDOWS 10 PRO 64 BIT MULTI-LANGUAGE SUPPORT ENGLISH/FRENCH/SPANISH',\n",
       "       'WINDOWS 10 PRO 64 BIT-MULTI-LANGUAGE SUPPORT ENGLISH/FRENCH/SPANISH.',\n",
       "       'WINDOWS 8', 'WINDOWS', 'MACOS 12 MONTEREY',\n",
       "       'WINDOWS 10 PRO (ENGLISH/FRENCH/SPANISH)', 'WINDOWS 10 PRO 64-BIT',\n",
       "       'WINDOWS 10 HOME 64', 'WINDOWS 11 PRO, WINDOWS', 'MACOS 10.12 SIERRA',\n",
       "       'WINDOWS 8.1', 'MACOS 10.14 MOJAVE',\n",
       "       'WIN 10 MULTI-LANGUAGE /FREE UPGRADE TO WIN 11', 'WINDOWS 11 HOME S',\n",
       "       'WIN 10 PRO 64 BIT MULTI-LANGUAGE SUPPORT ENGLISH/FRENCH/SPANISH(RENEWED)',\n",
       "       'WINDOWS PRO', 'LINUX',\n",
       "       'WIN 10 PRO 64 BIT MULTI-LANGUAGE SUPPORT ENGLISH/FRENCH/SPANISH',\n",
       "       'HP THINPRO', 'WINDOWS 10 DG WINDOWS 7 PRO 64', 'WIN 11 MULTI-HOME',\n",
       "       'WINDOWS 8 PRO', 'MICROSOFT WINDOWS 10 PROFESSIONAL (64BIT)',\n",
       "       'WINDOWS 10 PROFESSIONAL 64-BIT', 'WINDOWS 10 PRO (64-BIT)',\n",
       "       'WINDOWS 10 64 BIT-MULTI-LANGUAGE SUPPORTS ENGLISH/SPANISH/FRENCH',\n",
       "       'NO', 'WINDOWS 11 HOME IN S MODE', 'WINDOWS 7 HOME PREMIUM',\n",
       "       'WINDOWS 10 S, WINDOWS 10',\n",
       "       'WINDOWS 10 PRO 64 BIT-MULTI-LANGUAGE SUPPORTS ENGLISH/SPANISH/FRENCH',\n",
       "       'MAC OS X 10.0 CHEETAH', 'PC', 'WINDOWS 7 PRO + 10 PRO',\n",
       "       'WIN 10 PRO / FREE UPGRADE TO WIN 11'],\n",
       "      dtype='object')"
      ]
     },
     "execution_count": 39,
     "metadata": {},
     "output_type": "execute_result"
    }
   ],
   "source": [
    "comp_df.OS.value_counts().keys()"
   ]
  },
  {
   "cell_type": "code",
   "execution_count": 40,
   "id": "dde388d9-3295-488b-bfbe-5b81534a9b7a",
   "metadata": {},
   "outputs": [
    {
     "data": {
      "text/plain": [
       "Index(['UNKNOWN', 'WIFI & BLUETOOTH', 'BACKLIT KEYBOARD', 'ANTI-GLARE SCREEN',\n",
       "       'ANTI-GLARE', 'ANTI GLARE COATING',\n",
       "       'BACKLIT KEYBOARD,FINGERPRINT READER', 'FINGERPRINT READER',\n",
       "       'INFORMATION NOT AVAILABLE',\n",
       "       'HD AUDIO, BACKLIT KEYBOARD, ANTI GLARE COATING, NUMERIC KEYPAD',\n",
       "       ...\n",
       "       'BEZELS,DOLBY,STEREO SPEAKERS', 'FULL HD ANTI-GLARE', 'ACTIVE STYLUS',\n",
       "       'WATER PROOF', 'ANTI-GLARE,BACKLIT KEYBOARD,NARROW BEZELS',\n",
       "       'FHD TOUCH SCREEN', 'ANTI-GLARE,HD AUDIO',\n",
       "       'FINGERPRINT READER, HD AUDIO, TRACKPOINT, BACKLIT KEYBOARD, ANTI GLARE COATING',\n",
       "       'ANTI-REFLECTION, ANTI-SMUDGE, CORNING GORILLA GLASS, ANTI-GLARE SCREEN',\n",
       "       'HD AUDIO, MEMORY CARD SLOT'],\n",
       "      dtype='object', length=185)"
      ]
     },
     "execution_count": 40,
     "metadata": {},
     "output_type": "execute_result"
    }
   ],
   "source": [
    "comp_df.special_features.value_counts().keys()"
   ]
  },
  {
   "cell_type": "code",
   "execution_count": 41,
   "id": "251a3374-82bc-4949-871c-854751e62c7b",
   "metadata": {},
   "outputs": [
    {
     "data": {
      "text/plain": [
       "Index(['INTEGRATED', 'DEDICATED', 'IRIS XE GRAPHICS', 'UNKNOWN',\n",
       "       'NVIDIA GEFORCE RTX 4070', 'UHD GRAPHICS', 'NVIDIA GEFORCE RTX 3050 TI',\n",
       "       'INTEGRATED, DEDICATED', 'NVIDIA RTX A3000', 'RADEON GRAPHICS',\n",
       "       ...\n",
       "       'NVIDIA GEFORCE RTX2060', 'GEFORCE RTX 3050 TI', 'NVIDIA RTX3070',\n",
       "       'RTX 2060', 'T500,HD GRAPHICS, DEDICATED', 'NVIDIA GEFORCE RTX 2070',\n",
       "       'INTEGRATED INTEL IRIS XE PLUS GPU', 'GEFORCE RTX 3080 TI',\n",
       "       'GEFORCE RTX 3070 TI,IRIS XE GRAPHICS', 'SHARED, INTEGRATED'],\n",
       "      dtype='object', length=110)"
      ]
     },
     "execution_count": 41,
     "metadata": {},
     "output_type": "execute_result"
    }
   ],
   "source": [
    "comp_df.graphics.value_counts().keys()"
   ]
  },
  {
   "cell_type": "code",
   "execution_count": 42,
   "id": "37b35dc4-1ed5-4337-95ad-0fa6d7066ea9",
   "metadata": {},
   "outputs": [
    {
     "data": {
      "text/plain": [
       "Index(['UNKNOWN', 'INTEL', 'NVIDIA GEFORCE RTX 3070', 'INTEL IRIS XE GRAPHICS',\n",
       "       'INTEL INTEGRATED GRAPHICS', 'INTEL UHD GRAPHICS',\n",
       "       'AMD RADEON GRAPHICS', 'INTEL UHD GRAPHICS 620',\n",
       "       'NVIDIA GEFORCE RTX 3060', 'NVIDIA GEFORCE RTX 4070',\n",
       "       ...\n",
       "       'INTEL HD GRAPHICS;NVIDIA OPTIMUS GRAPHICS', 'AMD ATHLON',\n",
       "       'INTEL HD INTEGRATED GRAPHICS', 'AMD RADEON HD 8790M',\n",
       "       'AMD RADEON RX VEGA 10', 'AMD RADEON VEGA 9', 'DEDICATED',\n",
       "       'INTEL HD 5500', 'AMD RADEON RTX 3070', 'NVIDIA GEFORCE'],\n",
       "      dtype='object', length=206)"
      ]
     },
     "execution_count": 42,
     "metadata": {},
     "output_type": "execute_result"
    }
   ],
   "source": [
    "comp_df.graphics_coprocessor.value_counts().keys()"
   ]
  },
  {
   "cell_type": "markdown",
   "id": "7012d44f-3782-4cbc-afea-6607e8de8d90",
   "metadata": {},
   "source": [
    "So, there are several varieties in the object variables. The important features for the modeling can be the integer type variables."
   ]
  },
  {
   "cell_type": "code",
   "execution_count": 43,
   "id": "d25d2a88-dbe8-4f3c-92de-8293ab8a4343",
   "metadata": {},
   "outputs": [
    {
     "name": "stdout",
     "output_type": "stream",
     "text": [
      "<class 'pandas.core.frame.DataFrame'>\n",
      "RangeIndex: 4446 entries, 0 to 4445\n",
      "Data columns (total 14 columns):\n",
      " #   Column                Non-Null Count  Dtype \n",
      "---  ------                --------------  ----- \n",
      " 0   brand                 4446 non-null   object\n",
      " 1   model                 4446 non-null   object\n",
      " 2   screen_size_inch      4446 non-null   int32 \n",
      " 3   color                 4446 non-null   object\n",
      " 4   harddisk_GB           4446 non-null   int32 \n",
      " 5   cpu                   4446 non-null   object\n",
      " 6   ram_GB                4446 non-null   int32 \n",
      " 7   OS                    4446 non-null   object\n",
      " 8   special_features      4446 non-null   object\n",
      " 9   graphics              4446 non-null   object\n",
      " 10  graphics_coprocessor  4446 non-null   object\n",
      " 11  cpu_speed_GHz         4446 non-null   int32 \n",
      " 12  rating                4446 non-null   int32 \n",
      " 13  price_$               4446 non-null   int32 \n",
      "dtypes: int32(6), object(8)\n",
      "memory usage: 382.2+ KB\n"
     ]
    }
   ],
   "source": [
    "comp_df.info()"
   ]
  },
  {
   "cell_type": "code",
   "execution_count": 44,
   "id": "8ec7e438-b4e2-4ea3-860c-b0aadd620939",
   "metadata": {},
   "outputs": [
    {
     "data": {
      "text/html": [
       "<div>\n",
       "<style scoped>\n",
       "    .dataframe tbody tr th:only-of-type {\n",
       "        vertical-align: middle;\n",
       "    }\n",
       "\n",
       "    .dataframe tbody tr th {\n",
       "        vertical-align: top;\n",
       "    }\n",
       "\n",
       "    .dataframe thead th {\n",
       "        text-align: right;\n",
       "    }\n",
       "</style>\n",
       "<table border=\"1\" class=\"dataframe\">\n",
       "  <thead>\n",
       "    <tr style=\"text-align: right;\">\n",
       "      <th></th>\n",
       "      <th>screen_size_inch</th>\n",
       "      <th>harddisk_GB</th>\n",
       "      <th>ram_GB</th>\n",
       "      <th>cpu_speed_GHz</th>\n",
       "      <th>rating</th>\n",
       "      <th>price_$</th>\n",
       "    </tr>\n",
       "  </thead>\n",
       "  <tbody>\n",
       "    <tr>\n",
       "      <th>count</th>\n",
       "      <td>4446.000000</td>\n",
       "      <td>4446.000000</td>\n",
       "      <td>4446.000000</td>\n",
       "      <td>4446.000000</td>\n",
       "      <td>4446.000000</td>\n",
       "      <td>4446.000000</td>\n",
       "    </tr>\n",
       "    <tr>\n",
       "      <th>mean</th>\n",
       "      <td>14.731444</td>\n",
       "      <td>719.116284</td>\n",
       "      <td>23.952092</td>\n",
       "      <td>10.925776</td>\n",
       "      <td>3.903509</td>\n",
       "      <td>1188.659919</td>\n",
       "    </tr>\n",
       "    <tr>\n",
       "      <th>std</th>\n",
       "      <td>1.133332</td>\n",
       "      <td>748.541216</td>\n",
       "      <td>17.209310</td>\n",
       "      <td>148.324528</td>\n",
       "      <td>0.813221</td>\n",
       "      <td>825.675980</td>\n",
       "    </tr>\n",
       "    <tr>\n",
       "      <th>min</th>\n",
       "      <td>10.000000</td>\n",
       "      <td>1.000000</td>\n",
       "      <td>1.000000</td>\n",
       "      <td>0.000000</td>\n",
       "      <td>1.000000</td>\n",
       "      <td>57.000000</td>\n",
       "    </tr>\n",
       "    <tr>\n",
       "      <th>25%</th>\n",
       "      <td>14.000000</td>\n",
       "      <td>256.000000</td>\n",
       "      <td>16.000000</td>\n",
       "      <td>1.000000</td>\n",
       "      <td>4.000000</td>\n",
       "      <td>589.000000</td>\n",
       "    </tr>\n",
       "    <tr>\n",
       "      <th>50%</th>\n",
       "      <td>15.000000</td>\n",
       "      <td>719.000000</td>\n",
       "      <td>16.000000</td>\n",
       "      <td>11.000000</td>\n",
       "      <td>4.000000</td>\n",
       "      <td>999.000000</td>\n",
       "    </tr>\n",
       "    <tr>\n",
       "      <th>75%</th>\n",
       "      <td>15.000000</td>\n",
       "      <td>1000.000000</td>\n",
       "      <td>32.000000</td>\n",
       "      <td>11.000000</td>\n",
       "      <td>4.000000</td>\n",
       "      <td>1605.750000</td>\n",
       "    </tr>\n",
       "    <tr>\n",
       "      <th>max</th>\n",
       "      <td>27.000000</td>\n",
       "      <td>8000.000000</td>\n",
       "      <td>128.000000</td>\n",
       "      <td>9120.000000</td>\n",
       "      <td>5.000000</td>\n",
       "      <td>11261.000000</td>\n",
       "    </tr>\n",
       "  </tbody>\n",
       "</table>\n",
       "</div>"
      ],
      "text/plain": [
       "       screen_size_inch  harddisk_GB       ram_GB  cpu_speed_GHz       rating  \\\n",
       "count       4446.000000  4446.000000  4446.000000    4446.000000  4446.000000   \n",
       "mean          14.731444   719.116284    23.952092      10.925776     3.903509   \n",
       "std            1.133332   748.541216    17.209310     148.324528     0.813221   \n",
       "min           10.000000     1.000000     1.000000       0.000000     1.000000   \n",
       "25%           14.000000   256.000000    16.000000       1.000000     4.000000   \n",
       "50%           15.000000   719.000000    16.000000      11.000000     4.000000   \n",
       "75%           15.000000  1000.000000    32.000000      11.000000     4.000000   \n",
       "max           27.000000  8000.000000   128.000000    9120.000000     5.000000   \n",
       "\n",
       "            price_$  \n",
       "count   4446.000000  \n",
       "mean    1188.659919  \n",
       "std      825.675980  \n",
       "min       57.000000  \n",
       "25%      589.000000  \n",
       "50%      999.000000  \n",
       "75%     1605.750000  \n",
       "max    11261.000000  "
      ]
     },
     "execution_count": 44,
     "metadata": {},
     "output_type": "execute_result"
    }
   ],
   "source": [
    "comp_df.describe()"
   ]
  },
  {
   "cell_type": "code",
   "execution_count": 45,
   "id": "576a0b75-126d-4d1f-b32b-0cb787e020c6",
   "metadata": {},
   "outputs": [
    {
     "name": "stdout",
     "output_type": "stream",
     "text": [
      "<class 'pandas.core.frame.DataFrame'>\n",
      "RangeIndex: 4446 entries, 0 to 4445\n",
      "Data columns (total 14 columns):\n",
      " #   Column                Non-Null Count  Dtype  \n",
      "---  ------                --------------  -----  \n",
      " 0   brand                 4446 non-null   object \n",
      " 1   model                 4446 non-null   object \n",
      " 2   screen_size_inch      4446 non-null   float64\n",
      " 3   color                 4446 non-null   object \n",
      " 4   harddisk_GB           4446 non-null   float64\n",
      " 5   cpu                   4446 non-null   object \n",
      " 6   ram_GB                4446 non-null   float64\n",
      " 7   OS                    4446 non-null   object \n",
      " 8   special_features      4446 non-null   object \n",
      " 9   graphics              4446 non-null   object \n",
      " 10  graphics_coprocessor  4446 non-null   object \n",
      " 11  cpu_speed_GHz         4446 non-null   float64\n",
      " 12  rating                4446 non-null   float64\n",
      " 13  price_$               4446 non-null   float64\n",
      "dtypes: float64(6), object(8)\n",
      "memory usage: 486.4+ KB\n"
     ]
    }
   ],
   "source": [
    "for columns in comp_df.columns:\n",
    "    if comp_df[columns].dtype == \"int32\":\n",
    "        comp_df[columns] = comp_df[columns].astype(\"float64\")\n",
    "        \n",
    "comp_df.info()"
   ]
  },
  {
   "cell_type": "code",
   "execution_count": 46,
   "id": "d1befde5-0447-4ea8-b0bd-312459face52",
   "metadata": {},
   "outputs": [
    {
     "data": {
      "text/plain": [
       "0.0    3113\n",
       "1.0    1120\n",
       "2.0     213\n",
       "Name: OS, dtype: int64"
      ]
     },
     "execution_count": 46,
     "metadata": {},
     "output_type": "execute_result"
    }
   ],
   "source": [
    "comp_df['OS'] = comp_df['OS'].astype(str)\n",
    "for i, elem in enumerate(comp_df['OS']):\n",
    "    if 'WINDOWS 11' in elem:  \n",
    "        comp_df.loc[comp_df['OS'] == elem, 'OS'] = '0'  \n",
    "    elif any(keyword in elem for keyword in ['WINDOWS 10','MAC OS', 'MACOS']):  \n",
    "        comp_df.loc[comp_df['OS'] == elem, 'OS'] = '1'\n",
    "    \n",
    "comp_df.loc[comp_df['OS'].isin(['0', '1']) == False, 'OS'] = '2'\n",
    "comp_df['OS'] = comp_df['OS'].astype(\"float64\")        \n",
    "comp_df['OS'].value_counts()"
   ]
  },
  {
   "cell_type": "code",
   "execution_count": 47,
   "id": "db350dba-416a-4828-a14e-8e35429517d6",
   "metadata": {},
   "outputs": [
    {
     "data": {
      "text/plain": [
       "0.0    3054\n",
       "1.0    1071\n",
       "2.0     321\n",
       "Name: graphics, dtype: int64"
      ]
     },
     "execution_count": 47,
     "metadata": {},
     "output_type": "execute_result"
    }
   ],
   "source": [
    "comp_df['graphics'] = comp_df['graphics'].astype(str)\n",
    "for i, elem in enumerate(comp_df['graphics']):\n",
    "    if 'INTEGRATED' in elem:  \n",
    "        comp_df.loc[comp_df['graphics'] == elem, 'graphics'] = '0'  \n",
    "    elif any(keyword in elem for keyword in ['NVIDIA','DEDICATED']):  \n",
    "        comp_df.loc[comp_df['graphics'] == elem, 'graphics'] = '1'\n",
    "    \n",
    "comp_df.loc[comp_df['graphics'].isin(['0', '1']) == False, 'graphics'] = '2'\n",
    "comp_df['graphics'] = comp_df['graphics'].astype(\"float64\")        \n",
    "comp_df['graphics'].value_counts()"
   ]
  },
  {
   "cell_type": "code",
   "execution_count": 48,
   "id": "4d1a36ef-aaaa-4982-9750-0b88376dc51a",
   "metadata": {},
   "outputs": [
    {
     "data": {
      "text/plain": [
       "0.0    3411\n",
       "2.0     653\n",
       "1.0     382\n",
       "Name: cpu, dtype: int64"
      ]
     },
     "execution_count": 48,
     "metadata": {},
     "output_type": "execute_result"
    }
   ],
   "source": [
    "comp_df['cpu'] = comp_df['cpu'].astype(str)\n",
    "for i, elem in enumerate(comp_df['cpu']):\n",
    "    if 'CORE' in elem:  \n",
    "        comp_df.loc[comp_df['cpu'] == elem, 'cpu'] = '0'  \n",
    "    elif any(keyword in elem for keyword in ['INTEL','PENTIUM']):  \n",
    "        comp_df.loc[comp_df['cpu'] == elem, 'cpu'] = '1'\n",
    "    \n",
    "comp_df.loc[comp_df['cpu'].isin(['0', '1']) == False, 'cpu'] = '2'\n",
    "comp_df['cpu'] = comp_df['cpu'].astype(\"float64\")        \n",
    "comp_df['cpu'].value_counts()"
   ]
  },
  {
   "cell_type": "code",
   "execution_count": 49,
   "id": "4308feb0-e234-4775-8d86-854636aa3a73",
   "metadata": {},
   "outputs": [
    {
     "data": {
      "text/plain": [
       "2.0    1773\n",
       "0.0    1683\n",
       "1.0     990\n",
       "Name: color, dtype: int64"
      ]
     },
     "execution_count": 49,
     "metadata": {},
     "output_type": "execute_result"
    }
   ],
   "source": [
    "comp_df['color'] = comp_df['color'].astype(str)\n",
    "for i, elem in enumerate(comp_df['color']):\n",
    "    if 'BLA' in elem:  \n",
    "        comp_df.loc[comp_df['color'] == elem, 'color'] = '0'  \n",
    "    elif any(keyword in elem for keyword in ['BLU','GR']):  \n",
    "        comp_df.loc[comp_df['color'] == elem, 'color'] = '1'\n",
    "    \n",
    "comp_df.loc[comp_df['color'].isin(['0', '1']) == False, 'color'] = '2'\n",
    "comp_df['color'] = comp_df['color'].astype(\"float64\")        \n",
    "comp_df['color'].value_counts()"
   ]
  },
  {
   "cell_type": "code",
   "execution_count": 50,
   "id": "3acdc9ba-3de5-4fad-ada8-fa3aea1e3326",
   "metadata": {},
   "outputs": [
    {
     "data": {
      "text/plain": [
       "0.0    1730\n",
       "1.0    1729\n",
       "2.0     987\n",
       "Name: brand, dtype: int64"
      ]
     },
     "execution_count": 50,
     "metadata": {},
     "output_type": "execute_result"
    }
   ],
   "source": [
    "comp_df['brand'] = comp_df['brand'].astype(str)\n",
    "for i, elem in enumerate(comp_df['brand']):\n",
    "    if 'DELL' in elem:  \n",
    "        comp_df.loc[comp_df['brand'] == elem, 'brand'] = '0'  \n",
    "    elif any(keyword in elem for keyword in ['HP','ROKC', 'ASUS', 'ACER']):  \n",
    "        comp_df.loc[comp_df['brand'] == elem, 'brand'] = '1'\n",
    "    \n",
    "comp_df.loc[comp_df['brand'].isin(['0', '1']) == False, 'brand'] = '2'\n",
    "comp_df['brand'] = comp_df['brand'].astype(\"float64\")        \n",
    "comp_df['brand'].value_counts()"
   ]
  },
  {
   "cell_type": "code",
   "execution_count": 51,
   "id": "d0dd52ed-c988-4c29-81ba-c7ea8f9c52e0",
   "metadata": {},
   "outputs": [
    {
     "data": {
      "text/plain": [
       "2.0    2191\n",
       "0.0    1164\n",
       "1.0    1091\n",
       "Name: model, dtype: int64"
      ]
     },
     "execution_count": 51,
     "metadata": {},
     "output_type": "execute_result"
    }
   ],
   "source": [
    "comp_df['model'] = comp_df['model'].astype(str)\n",
    "for i, elem in enumerate(comp_df['model']):\n",
    "    if 'UNKNOWN' in elem:  \n",
    "        comp_df.loc[comp_df['model'] == elem, 'model'] = '0'  \n",
    "    elif any(keyword in elem for keyword in ['VECTOR','STEALTH', 'ISPIRATION', 'LATITUDE']):  \n",
    "        comp_df.loc[comp_df['model'] == elem, 'model'] = '1'\n",
    "    \n",
    "comp_df.loc[comp_df['model'].isin(['0', '1']) == False, 'model'] = '2'\n",
    "comp_df['model'] = comp_df['model'].astype(\"float64\")        \n",
    "comp_df['model'].value_counts()"
   ]
  },
  {
   "cell_type": "code",
   "execution_count": 52,
   "id": "8ebaabd1-872d-4296-bb35-edcd90a86cf4",
   "metadata": {},
   "outputs": [
    {
     "data": {
      "text/plain": [
       "1.0    2414\n",
       "0.0    1872\n",
       "2.0     160\n",
       "Name: graphics_coprocessor, dtype: int64"
      ]
     },
     "execution_count": 52,
     "metadata": {},
     "output_type": "execute_result"
    }
   ],
   "source": [
    "comp_df['graphics_coprocessor'] = comp_df['graphics_coprocessor'].astype(str)\n",
    "for i, elem in enumerate(comp_df['graphics_coprocessor']):\n",
    "    if 'UNKNOWN' in elem:  \n",
    "        comp_df.loc[comp_df['graphics_coprocessor'] == elem, 'graphics_coprocessor'] = '0'  \n",
    "    elif any(keyword in elem for keyword in ['INTEL', 'NVIDIA']):  \n",
    "        comp_df.loc[comp_df['graphics_coprocessor'] == elem, 'graphics_coprocessor'] = '1'\n",
    "    \n",
    "comp_df.loc[comp_df['graphics_coprocessor'].isin(['0', '1']) == False, 'graphics_coprocessor'] = '2'\n",
    "comp_df['graphics_coprocessor'] = comp_df['graphics_coprocessor'].astype(\"float64\")        \n",
    "comp_df['graphics_coprocessor'].value_counts()"
   ]
  },
  {
   "cell_type": "code",
   "execution_count": 53,
   "id": "92605329-0039-4cb4-b868-fba67a5b175f",
   "metadata": {},
   "outputs": [
    {
     "data": {
      "text/plain": [
       "0.0    2392\n",
       "1.0    1365\n",
       "2.0     689\n",
       "Name: special_features, dtype: int64"
      ]
     },
     "execution_count": 53,
     "metadata": {},
     "output_type": "execute_result"
    }
   ],
   "source": [
    "comp_df['special_features'] = comp_df['special_features'].astype(str)\n",
    "for i, elem in enumerate(comp_df['special_features']):\n",
    "    if 'UNKNOWN' in elem:  \n",
    "        comp_df.loc[comp_df['special_features'] == elem, 'special_features'] = '0'  \n",
    "    elif any(keyword in elem for keyword in ['WIFI & BLUETOOTH', 'BACKLIT KEYBOARD']):  \n",
    "        comp_df.loc[comp_df['special_features'] == elem, 'special_features'] = '1'\n",
    "    \n",
    "comp_df.loc[comp_df['special_features'].isin(['0', '1']) == False, 'special_features'] = '2'\n",
    "comp_df['special_features'] = comp_df['special_features'].astype(\"float64\")        \n",
    "comp_df['special_features'].value_counts()"
   ]
  },
  {
   "cell_type": "code",
   "execution_count": 54,
   "id": "852f8ce9-c0e9-4b3d-91a3-edb1b253828a",
   "metadata": {},
   "outputs": [
    {
     "name": "stdout",
     "output_type": "stream",
     "text": [
      "<class 'pandas.core.frame.DataFrame'>\n",
      "RangeIndex: 4446 entries, 0 to 4445\n",
      "Data columns (total 14 columns):\n",
      " #   Column                Non-Null Count  Dtype  \n",
      "---  ------                --------------  -----  \n",
      " 0   brand                 4446 non-null   float64\n",
      " 1   model                 4446 non-null   float64\n",
      " 2   screen_size_inch      4446 non-null   float64\n",
      " 3   color                 4446 non-null   float64\n",
      " 4   harddisk_GB           4446 non-null   float64\n",
      " 5   cpu                   4446 non-null   float64\n",
      " 6   ram_GB                4446 non-null   float64\n",
      " 7   OS                    4446 non-null   float64\n",
      " 8   special_features      4446 non-null   float64\n",
      " 9   graphics              4446 non-null   float64\n",
      " 10  graphics_coprocessor  4446 non-null   float64\n",
      " 11  cpu_speed_GHz         4446 non-null   float64\n",
      " 12  rating                4446 non-null   float64\n",
      " 13  price_$               4446 non-null   float64\n",
      "dtypes: float64(14)\n",
      "memory usage: 486.4 KB\n"
     ]
    }
   ],
   "source": [
    "data = comp_df[[\"brand\", \"model\", \"screen_size_inch\", \"color\", \"harddisk_GB\", \"cpu\", \"ram_GB\", \"OS\", \"special_features\", \"graphics\", \"graphics_coprocessor\", \"cpu_speed_GHz\", \"rating\", \"price_$\"]].copy()\n",
    "data.info()"
   ]
  },
  {
   "cell_type": "markdown",
   "id": "61441d1a-1760-4b87-919e-250543442047",
   "metadata": {},
   "source": [
    "### Assumption Checking and Outliers Detection :"
   ]
  },
  {
   "cell_type": "code",
   "execution_count": 55,
   "id": "1aff25ae-03ba-4255-b17c-58454b7b17b5",
   "metadata": {},
   "outputs": [
    {
     "name": "stdout",
     "output_type": "stream",
     "text": [
      "Skewness of data : \n",
      " [ 2.91742489e-01 -4.55162204e-01 -1.02019272e-01 -3.93497329e-02\n",
      "  4.88939671e+00  1.56694252e+00  1.36817328e+00  1.40006601e+00\n",
      "  7.45235362e-01  1.36207530e+00  1.67361174e-01  5.50098921e+01\n",
      " -2.16630152e+00  2.13033823e+00]\n",
      "Kurtosis of data : \n",
      " [-1.23740880e+00 -1.42558879e+00  5.59220261e+00 -1.71173433e+00\n",
      "  3.93146354e+01  7.16515951e-01  1.55948955e+00  9.66687555e-01\n",
      " -8.16477009e-01  7.17663473e-01 -8.54017202e-01  3.25540729e+03\n",
      "  5.95337447e+00  1.23755470e+01]\n",
      "Applying normality test : \n",
      " NormaltestResult(statistic=masked_array(data=[5536.2236979380405, 37260.90116692318,\n",
      "                   545.7685081983522, 19363.17899938502,\n",
      "                   4475.880911124245, 1036.9426795991935,\n",
      "                   980.4189745451349, 933.3200248204284,\n",
      "                   736.6454915514887, 873.4868326318722,\n",
      "                   504.2112991441472, 14551.135727881192,\n",
      "                   2003.2853069668622, 2293.069591645389],\n",
      "             mask=[False, False, False, False, False, False, False, False,\n",
      "                   False, False, False, False, False, False],\n",
      "       fill_value=1e+20), pvalue=array([0.00000000e+000, 0.00000000e+000, 3.07520623e-119, 0.00000000e+000,\n",
      "       0.00000000e+000, 6.77264170e-226, 1.27269606e-213, 2.14848183e-203,\n",
      "       1.09512565e-160, 2.11224498e-190, 3.25018090e-110, 0.00000000e+000,\n",
      "       0.00000000e+000, 0.00000000e+000]))\n",
      "Applying Shapiro test : ShapiroResult(statistic=0.344512403011322, pvalue=0.0)\n"
     ]
    }
   ],
   "source": [
    "from scipy import stats\n",
    "print(\"Skewness of data : \\n\", stats.skew(data))\n",
    "print(\"Kurtosis of data : \\n\", stats.kurtosis(data))\n",
    "print(\"Applying normality test : \\n\", stats.mstats.normaltest(data))\n",
    "print(\"Applying Shapiro test :\", stats.shapiro(data))"
   ]
  },
  {
   "cell_type": "code",
   "execution_count": 56,
   "id": "35057492-34c4-4cfa-ae77-6c0070789c11",
   "metadata": {},
   "outputs": [
    {
     "name": "stdout",
     "output_type": "stream",
     "text": [
      "The z-score of the data is : \n",
      "          brand     model  screen_size_inch     color  harddisk_GB       cpu  \\\n",
      "0     0.218835  1.470005          0.645465  0.022966     0.375284  0.521874   \n",
      "1     0.218835  1.470005          0.236988  1.111555     0.375284  0.521874   \n",
      "2     1.528311  0.275844          0.236988  1.157487     0.000155  0.521874   \n",
      "3     1.528311  0.918317          1.527918  1.111555     0.618761  2.227239   \n",
      "4     1.528311  0.918317          0.236988  1.111555     0.618761  2.227239   \n",
      "...        ...       ...               ...       ...          ...       ...   \n",
      "4441  1.528311  0.275844          0.236988  1.157487     0.000155  0.521874   \n",
      "4442  0.218835  1.470005          0.645465  0.022966     0.375284  0.521874   \n",
      "4443  1.090641  0.918317          0.236988  1.157487     0.276724  0.521874   \n",
      "4444  1.090641  0.275844          0.645465  1.111555     0.276724  0.521874   \n",
      "4445  1.090641  0.275844          0.645465  1.157487     0.618761  0.521874   \n",
      "\n",
      "        ram_GB        OS  special_features  graphics  graphics_coprocessor  \\\n",
      "0     0.927050  0.612192          0.834749  0.624005              0.692980   \n",
      "1     2.327369  0.612192          0.518256  0.624005              0.692980   \n",
      "2     0.467701  0.612192          0.834749  0.995567              1.106662   \n",
      "3     0.927050  1.148355          0.518256  0.624005              1.106662   \n",
      "4     0.927050  1.148355          0.834749  0.624005              1.106662   \n",
      "...        ...       ...               ...       ...                   ...   \n",
      "4441  0.467701  0.612192          0.834749  0.995567              0.692980   \n",
      "4442  0.927050  0.612192          0.834749  0.624005              0.692980   \n",
      "4443  0.927050  1.148355          0.518256  0.624005              1.106662   \n",
      "4444  0.927050  1.148355          0.834749  0.624005              0.692980   \n",
      "4445  0.055330  0.612192          0.834749  0.624005              0.692980   \n",
      "\n",
      "      cpu_speed_GHz    rating   price_$  \n",
      "0          0.066927  0.118666  0.726347  \n",
      "1          0.000500  0.118666  0.229728  \n",
      "2          0.066927  1.348483  0.497031  \n",
      "3          0.000500  0.118666  0.605221  \n",
      "4          0.000500  0.118666  0.054095  \n",
      "...             ...       ...       ...  \n",
      "4441       0.066927  3.570782  0.618157  \n",
      "4442       0.066927  0.118666  0.726347  \n",
      "4443       0.000500  0.118666  0.723925  \n",
      "4444       0.073670  0.118666  0.705368  \n",
      "4445       0.053441  0.118666  0.303616  \n",
      "\n",
      "[4446 rows x 14 columns]\n"
     ]
    }
   ],
   "source": [
    "from scipy import stats\n",
    "zscore = np.abs(stats.zscore(data))\n",
    "print(\"The z-score of the data is : \\n\", zscore)"
   ]
  },
  {
   "cell_type": "code",
   "execution_count": 57,
   "id": "00d97790-f8be-4e81-8864-def4be76c416",
   "metadata": {},
   "outputs": [
    {
     "name": "stdout",
     "output_type": "stream",
     "text": [
      "The indexes of outliers is : \n",
      " [  17   27   54   55   62   76   77   89   97  100  101  107  136  153\n",
      "  179  184  189  201  227  228  267  318  373  373  381  383  387  388\n",
      "  394  401  422  458  482  511  513  527  537  569  603  616  625  630\n",
      "  635  657  667  678  699  705  705  734  753  767  771  816  817  837\n",
      "  840  851  852  862  868  869  876  887  889  899  904  911  930  932\n",
      "  959  968  992  999 1020 1030 1032 1039 1043 1054 1056 1083 1114 1123\n",
      " 1153 1176 1178 1188 1196 1219 1221 1231 1234 1239 1241 1246 1248 1258\n",
      " 1271 1274 1276 1286 1294 1297 1307 1325 1328 1337 1349 1355 1372 1388\n",
      " 1393 1409 1416 1420 1423 1429 1431 1442 1445 1461 1464 1469 1473 1483\n",
      " 1499 1506 1515 1530 1533 1553 1571 1578 1596 1601 1614 1632 1638 1652\n",
      " 1660 1663 1669 1671 1689 1691 1697 1703 1722 1737 1742 1747 1771 1776\n",
      " 1784 1789 1808 1816 1819 1831 1837 1844 1859 1868 1875 1877 1895 1906\n",
      " 1915 1919 1926 1928 1933 1943 1945 1950 1964 1967 1980 1986 2006 2009\n",
      " 2020 2027 2031 2038 2042 2049 2065 2083 2098 2106 2126 2141 2144 2144\n",
      " 2146 2147 2164 2186 2206 2210 2224 2242 2250 2266 2278 2286 2289 2291\n",
      " 2297 2299 2316 2338 2350 2361 2378 2383 2402 2425 2445 2450 2452 2471\n",
      " 2478 2492 2504 2515 2534 2542 2549 2556 2584 2603 2609 2622 2629 2633\n",
      " 2638 2649 2671 2676 2685 2692 2697 2703 2710 2729 2733 2743 2746 2755\n",
      " 2759 2770 2780 2783 2796 2804 2819 2825 2828 2835 2840 2843 2843 2844\n",
      " 2852 2860 2869 2875 2878 2879 2892 2897 2900 2908 2919 2926 2945 2957\n",
      " 2960 2965 2983 3006 3029 3042 3046 3052 3068 3083 3088 3094 3097 3100\n",
      " 3107 3118 3126 3135 3138 3161 3165 3168 3172 3176 3186 3198 3211 3219\n",
      " 3243 3246 3252 3261 3261 3269 3269 3269 3270 3273 3283 3291 3293 3303\n",
      " 3315 3319 3321 3334 3341 3346 3351 3351 3364 3369 3376 3378 3383 3385\n",
      " 3393 3399 3404 3407 3412 3414 3417 3424 3426 3428 3431 3444 3447 3451\n",
      " 3460 3480 3488 3497 3499 3502 3511 3522 3537 3542 3551 3551 3563 3573\n",
      " 3591 3594 3605 3614 3628 3634 3658 3665 3691 3698 3702 3710 3721 3731\n",
      " 3737 3751 3766 3769 3769 3773 3778 3789 3790 3791 3798 3802 3819 3825\n",
      " 3833 3844 3844 3849 3856 3859 3867 3875 3880 3882 3890 3893 3895 3899\n",
      " 3909 3925 3939 3957 3968 3973 3996 4016 4025 4044 4045 4055 4084 4092\n",
      " 4092 4110 4110 4113 4115 4136 4143 4170 4174 4174 4198 4216 4216 4226\n",
      " 4249 4275 4292 4304 4323 4328 4344 4360 4360 4365 4374 4387 4393 4402\n",
      " 4425 4439 4441]\n",
      "The number of outliers is : \n",
      " 451\n"
     ]
    }
   ],
   "source": [
    "# Determing indexes where z-score > 3 :\n",
    "\n",
    "outlierlist = np.where(zscore > 3) \n",
    "print(\"The indexes of outliers is : \\n\",outlierlist[0])\n",
    "print(\"The number of outliers is : \\n\", len(outlierlist[0]))"
   ]
  },
  {
   "cell_type": "code",
   "execution_count": 58,
   "id": "d216a095-2be5-40b6-82cd-abff3d2dd21c",
   "metadata": {},
   "outputs": [
    {
     "name": "stdout",
     "output_type": "stream",
     "text": [
      "Dimension after removing outliers : (4011, 14)\n"
     ]
    }
   ],
   "source": [
    "data_new = data[(zscore < 3).all(axis = 1)]\n",
    "print(\"Dimension after removing outliers :\", data_new.shape)"
   ]
  },
  {
   "cell_type": "code",
   "execution_count": 59,
   "id": "12e953c3-7e39-409b-9b23-201cfa5faad4",
   "metadata": {},
   "outputs": [
    {
     "data": {
      "text/html": [
       "<div>\n",
       "<style scoped>\n",
       "    .dataframe tbody tr th:only-of-type {\n",
       "        vertical-align: middle;\n",
       "    }\n",
       "\n",
       "    .dataframe tbody tr th {\n",
       "        vertical-align: top;\n",
       "    }\n",
       "\n",
       "    .dataframe thead th {\n",
       "        text-align: right;\n",
       "    }\n",
       "</style>\n",
       "<table border=\"1\" class=\"dataframe\">\n",
       "  <thead>\n",
       "    <tr style=\"text-align: right;\">\n",
       "      <th></th>\n",
       "      <th>brand</th>\n",
       "      <th>model</th>\n",
       "      <th>screen_size_inch</th>\n",
       "      <th>color</th>\n",
       "      <th>harddisk_GB</th>\n",
       "      <th>cpu</th>\n",
       "      <th>ram_GB</th>\n",
       "      <th>OS</th>\n",
       "      <th>special_features</th>\n",
       "      <th>graphics</th>\n",
       "      <th>graphics_coprocessor</th>\n",
       "      <th>cpu_speed_GHz</th>\n",
       "      <th>rating</th>\n",
       "      <th>price_$</th>\n",
       "    </tr>\n",
       "  </thead>\n",
       "  <tbody>\n",
       "    <tr>\n",
       "      <th>0</th>\n",
       "      <td>1.0</td>\n",
       "      <td>0.0</td>\n",
       "      <td>14.0</td>\n",
       "      <td>1.0</td>\n",
       "      <td>1000.0</td>\n",
       "      <td>0.0</td>\n",
       "      <td>8.0</td>\n",
       "      <td>0.0</td>\n",
       "      <td>0.0</td>\n",
       "      <td>0.0</td>\n",
       "      <td>1.0</td>\n",
       "      <td>1.0</td>\n",
       "      <td>4.0</td>\n",
       "      <td>589.0</td>\n",
       "    </tr>\n",
       "    <tr>\n",
       "      <th>1</th>\n",
       "      <td>1.0</td>\n",
       "      <td>0.0</td>\n",
       "      <td>15.0</td>\n",
       "      <td>2.0</td>\n",
       "      <td>1000.0</td>\n",
       "      <td>0.0</td>\n",
       "      <td>64.0</td>\n",
       "      <td>0.0</td>\n",
       "      <td>1.0</td>\n",
       "      <td>0.0</td>\n",
       "      <td>1.0</td>\n",
       "      <td>11.0</td>\n",
       "      <td>4.0</td>\n",
       "      <td>999.0</td>\n",
       "    </tr>\n",
       "    <tr>\n",
       "      <th>2</th>\n",
       "      <td>2.0</td>\n",
       "      <td>1.0</td>\n",
       "      <td>15.0</td>\n",
       "      <td>0.0</td>\n",
       "      <td>719.0</td>\n",
       "      <td>0.0</td>\n",
       "      <td>32.0</td>\n",
       "      <td>0.0</td>\n",
       "      <td>0.0</td>\n",
       "      <td>1.0</td>\n",
       "      <td>0.0</td>\n",
       "      <td>1.0</td>\n",
       "      <td>5.0</td>\n",
       "      <td>1599.0</td>\n",
       "    </tr>\n",
       "    <tr>\n",
       "      <th>3</th>\n",
       "      <td>2.0</td>\n",
       "      <td>2.0</td>\n",
       "      <td>13.0</td>\n",
       "      <td>2.0</td>\n",
       "      <td>256.0</td>\n",
       "      <td>2.0</td>\n",
       "      <td>8.0</td>\n",
       "      <td>1.0</td>\n",
       "      <td>1.0</td>\n",
       "      <td>0.0</td>\n",
       "      <td>0.0</td>\n",
       "      <td>11.0</td>\n",
       "      <td>4.0</td>\n",
       "      <td>689.0</td>\n",
       "    </tr>\n",
       "    <tr>\n",
       "      <th>4</th>\n",
       "      <td>2.0</td>\n",
       "      <td>2.0</td>\n",
       "      <td>15.0</td>\n",
       "      <td>2.0</td>\n",
       "      <td>256.0</td>\n",
       "      <td>2.0</td>\n",
       "      <td>8.0</td>\n",
       "      <td>1.0</td>\n",
       "      <td>0.0</td>\n",
       "      <td>0.0</td>\n",
       "      <td>0.0</td>\n",
       "      <td>11.0</td>\n",
       "      <td>4.0</td>\n",
       "      <td>1144.0</td>\n",
       "    </tr>\n",
       "  </tbody>\n",
       "</table>\n",
       "</div>"
      ],
      "text/plain": [
       "   brand  model  screen_size_inch  color  harddisk_GB  cpu  ram_GB   OS  \\\n",
       "0    1.0    0.0              14.0    1.0       1000.0  0.0     8.0  0.0   \n",
       "1    1.0    0.0              15.0    2.0       1000.0  0.0    64.0  0.0   \n",
       "2    2.0    1.0              15.0    0.0        719.0  0.0    32.0  0.0   \n",
       "3    2.0    2.0              13.0    2.0        256.0  2.0     8.0  1.0   \n",
       "4    2.0    2.0              15.0    2.0        256.0  2.0     8.0  1.0   \n",
       "\n",
       "   special_features  graphics  graphics_coprocessor  cpu_speed_GHz  rating  \\\n",
       "0               0.0       0.0                   1.0            1.0     4.0   \n",
       "1               1.0       0.0                   1.0           11.0     4.0   \n",
       "2               0.0       1.0                   0.0            1.0     5.0   \n",
       "3               1.0       0.0                   0.0           11.0     4.0   \n",
       "4               0.0       0.0                   0.0           11.0     4.0   \n",
       "\n",
       "   price_$  \n",
       "0    589.0  \n",
       "1    999.0  \n",
       "2   1599.0  \n",
       "3    689.0  \n",
       "4   1144.0  "
      ]
     },
     "execution_count": 59,
     "metadata": {},
     "output_type": "execute_result"
    }
   ],
   "source": [
    "data_new.head()"
   ]
  },
  {
   "cell_type": "markdown",
   "id": "000c5a09-4c45-43e8-995a-5adfde93b5b0",
   "metadata": {},
   "source": [
    "Clearly the normalisation or the standardization is needed, because the variables are not comparable to each other. But, before that, we need to split the dataset."
   ]
  },
  {
   "cell_type": "markdown",
   "id": "7729acdf-0de0-482e-9170-7eccccf1bd12",
   "metadata": {},
   "source": [
    "### Splitting the Dataset :"
   ]
  },
  {
   "cell_type": "code",
   "execution_count": 60,
   "id": "1c471758-3a46-4117-915e-abb10bfb9a76",
   "metadata": {},
   "outputs": [],
   "source": [
    "x = data_new.iloc[:, :-1].values\n",
    "y = data_new.iloc[:, -1].values"
   ]
  },
  {
   "cell_type": "code",
   "execution_count": 61,
   "id": "4f998d74-2ed6-49a5-9db9-1d167b3289fe",
   "metadata": {},
   "outputs": [],
   "source": [
    "from sklearn.model_selection import train_test_split\n",
    "x_train, x_test, y_train, y_test = train_test_split(x, y, test_size = 0.20, random_state = 1)"
   ]
  },
  {
   "cell_type": "code",
   "execution_count": 62,
   "id": "76f8e90f-778c-44a7-b74f-01e0e0c0b880",
   "metadata": {},
   "outputs": [
    {
     "name": "stdout",
     "output_type": "stream",
     "text": [
      "[[ 1.  0. 15. ...  1.  1.  4.]\n",
      " [ 0.  1. 14. ...  1.  1.  4.]\n",
      " [ 0.  1. 14. ...  0. 11.  4.]\n",
      " ...\n",
      " [ 1.  0. 15. ...  1.  1.  5.]\n",
      " [ 1.  0. 15. ...  1.  1.  4.]\n",
      " [ 0.  1. 14. ...  1. 11.  4.]]\n"
     ]
    }
   ],
   "source": [
    "print(x_train)"
   ]
  },
  {
   "cell_type": "code",
   "execution_count": 63,
   "id": "982f01c5-66eb-4bdc-9dd0-d2196c45ad47",
   "metadata": {},
   "outputs": [
    {
     "name": "stdout",
     "output_type": "stream",
     "text": [
      "[[ 0.  1. 15. ...  0. 11.  4.]\n",
      " [ 0.  2. 15. ...  0. 11.  5.]\n",
      " [ 2.  2. 15. ...  0. 11.  4.]\n",
      " ...\n",
      " [ 2.  2. 17. ...  0. 11.  3.]\n",
      " [ 0.  1. 14. ...  0. 11.  4.]\n",
      " [ 1.  0. 15. ...  1.  1.  4.]]\n"
     ]
    }
   ],
   "source": [
    "print(x_test)"
   ]
  },
  {
   "cell_type": "code",
   "execution_count": 64,
   "id": "62765e70-4a9e-4636-bb37-7b3521a923f7",
   "metadata": {},
   "outputs": [
    {
     "name": "stdout",
     "output_type": "stream",
     "text": [
      "[ 459.  389. 1229. ...  389.  459. 1713.]\n"
     ]
    }
   ],
   "source": [
    "print(y_train)"
   ]
  },
  {
   "cell_type": "code",
   "execution_count": 65,
   "id": "538e3392-438c-4dcc-924a-5eaec0587942",
   "metadata": {},
   "outputs": [
    {
     "name": "stdout",
     "output_type": "stream",
     "text": [
      "[ 861. 1799. 1029.  389. 1495. 1295.  849. 1199.  389. 1679.  639.  589.\n",
      " 1249.  600. 1599. 2815. 1150.  459. 1715. 1227.  389.  289. 2999.  639.\n",
      "  880.  639.  199.  589.  389. 1763. 1409. 3423.  639. 2199. 1898. 1589.\n",
      "  449.  389. 1066. 2500.  459.  389.  389.  322. 2199.  913.  389.  561.\n",
      " 1199. 1614.  739. 1637.  899.  319. 3599.  459.  899.  119.  459. 1311.\n",
      "  925.  999.  389.  589.  639. 1910. 2611.  459. 1599. 1199.  589.  899.\n",
      "  599.  849.  589.  639. 1699. 1023.  941.  589.  726.  749.  639.  999.\n",
      "  899.  389.  988.  708. 1699.  999. 1999. 2296.  389. 2199. 1599.  589.\n",
      "  660.  879. 1599.  389.  899. 2460. 2499. 1557. 1395. 1899.  878. 1561.\n",
      " 1028.  999. 2700.  389. 1599.  310. 1462. 1683.  854.  749.  589.  965.\n",
      "  999.  691.  589. 3378. 2301.  959.  589. 1599.  389.  459. 1685.  459.\n",
      " 1599.  899. 1399.  389.  639.  548. 2815. 1900. 1470.  799. 1999.  459.\n",
      " 3245. 1094. 1999. 1599. 1599. 2891. 1385.  135.  249. 1599.  699.  928.\n",
      "  949.  109.  389. 1432.  951. 2249.  807. 1043.  589. 1399.  999.  999.\n",
      "  989.  999. 1273. 2499. 1720.  389.  405.  189.  185. 1373.  589. 2508.\n",
      " 1299. 1799.  799. 1948.  589.  743.  729.  802.  968.  389.  999. 2108.\n",
      " 1899.  379. 1599.  389. 1599.  639. 1599. 2321.  111.  718. 1267.  459.\n",
      " 1556. 2193.  639.  559.  899.  965. 1159.  389.  629.  389. 1459. 1599.\n",
      "  389. 1030.  377.  999.  839.  419. 1666.  821.  639.  589.  177.  749.\n",
      "  289.  899. 1238.  993.  729.   99.  459.  576.  639.  589. 1429. 1673.\n",
      "  899.  490. 1419.  799. 1204. 2799.  389. 2192. 1499. 1197.  999. 2699.\n",
      "  936.  589. 1599. 1290.  236.  999.  999.  150. 1125. 1899.  389. 2145.\n",
      " 1047. 1652.  289.  999.  420.  589.  545.  639.  199.  999. 2466.  188.\n",
      "  389. 1334.  244. 2675. 1305. 2440.  589.  459.  401.  699.  807. 2807.\n",
      " 2299.  999.  764.  389.  369.  639. 2742.  953. 2699.  999.  799.  589.\n",
      "  899.  799.  389.  755.  639.  999. 1305.  639. 2547. 1849.  886. 2499.\n",
      " 1288.  459.  459.  589.  389.  899. 1049.  639.  589.  459.  389.  689.\n",
      "  589.  231.  848.  389. 1455.  599. 1493.  349. 2179. 1389. 1255. 1096.\n",
      " 1599.  361.  999.  589.  589. 3034. 1599. 1096. 1786.  389.  799. 1599.\n",
      "  742.  764.  589. 1499.  899. 1875.  899.  639.  389. 1523. 1599.  589.\n",
      "  589.  994.  589. 1049.  953.  589.  999.  691.  169.  854.  655.  943.\n",
      " 2923. 2619.  389.  198. 1599.  389. 1377.  459.  389. 1493.  459. 1681.\n",
      "  499.  254. 1599.  589. 1599. 2399. 1385. 1689. 2699.  459. 2086. 1689.\n",
      " 1173.  459. 2291. 1030. 1799.  999.  589. 2023.  389.  377.  899. 1399.\n",
      " 1535. 1599.  389. 2817. 1305. 2299.  389. 1139. 1786.  999.  999. 1102.\n",
      "  313. 2622. 2629. 1299.  779.  719. 1399.  739.  389. 2242.  459. 1376.\n",
      "  599. 1102.  389.  224.  899. 1219. 2498. 2616.  839.  595.  971.  389.\n",
      " 1341.  999.  459. 1445.  589. 1099.  328.  579.  899. 1699. 1005.  931.\n",
      "  124.  389.  797. 1599.  299. 1709. 1599.  389. 1599. 1493.  807.  589.\n",
      " 1599. 1499.  656.  589.  865.  739.  909.  614.  429. 1182. 1748.  389.\n",
      "  993. 3402.  999. 1299.  999.  589.  389. 1649.  459.  639.  999.  389.\n",
      "  459.  589. 1183. 1962.  389.  489.  745. 1999.  895. 1599.  931.  589.\n",
      "  799.  915.  877.  589.  608. 1599.  589. 2251. 1354. 1279.  589.  729.\n",
      " 1782.  399. 1599. 1385.  589. 1799. 1317.  763. 1366. 2420.  999.  999.\n",
      "  589.  899.  689. 2299.  239.  999.  389. 1299. 2388.  853.  999. 1655.\n",
      "  715. 1269.  709.  459.  459.  459.  389.  999.  389. 1031.  999.  999.\n",
      "  999.  589. 2299.  659.  519.  459. 1599.  999. 2701.  854.  436.  180.\n",
      "  951. 1424. 1199.  999.  399.  999. 2849. 2110.  679.  589.  729. 1179.\n",
      "  899.  811.  389.  639.  389. 1599. 1499. 1599. 1303.  459. 1370. 2270.\n",
      "  864.  589.  589.  389.  999. 1666. 3619. 2753. 1599.  369.  999.  589.\n",
      "  138.  649. 1895.  999.  443.  389. 3212.  459. 1101.  849. 1872. 1229.\n",
      " 2399.  389.  589.  648. 1733. 2699.  899.  589. 2199. 2467. 1419.  821.\n",
      "  550.  639.  999. 1770.  639. 1049.  899. 1099.  367. 1278.  947.  359.\n",
      " 1212. 1989. 1084. 2461. 1799.  919.  860.  389.  999.  235. 2939. 1789.\n",
      "  899. 1689.  762. 3111. 1281.  587.  999.  589.  389. 1751.  899.  653.\n",
      "  499.  389.  389. 1764.  879.  619.  953. 1646.  928. 1355. 1599.  399.\n",
      "  589.  589. 1999. 1270. 1599. 1247. 2572.  589. 1599. 1488. 2925.  389.\n",
      "  807.  594.  195.  389. 1273. 1927.  999. 1359. 3399.  589.  459.  415.\n",
      " 1599. 1169.  459.  589.  864.  953.  478.  389.  389. 1799. 2902. 1599.\n",
      " 1049.  922. 1589. 1963. 2432.  589.  248.  589. 1718. 1052.   93.  639.\n",
      "  999.  389.  999. 1230. 3599.  389. 2020.  334. 1469.  939. 1030. 1751.\n",
      "  767. 1199. 1001.  735. 1299.  885.  389.  589.  589.  389.  999.  999.\n",
      " 2249. 2198.  478.  459. 2255.  389.  573. 2399.  988. 1241.  749. 1149.\n",
      "  459.  389.  899. 2039.  999.  459.  999. 1144. 2614. 1597.  389.  219.\n",
      "  899.  979.  459. 1999.  389.  639. 1599.  716. 1155. 2799.  579. 3274.\n",
      "  589. 1244.  639. 1029.  730. 1499.  999.  775.  807. 1303. 1239.  429.\n",
      "  899. 1347.  589. 1764.  459.  888.  389.  658. 2899.  934.  459.]\n"
     ]
    }
   ],
   "source": [
    "print(y_test)"
   ]
  },
  {
   "cell_type": "markdown",
   "id": "41ecb2ad-d3c4-4cab-b730-c50dcc81ee92",
   "metadata": {},
   "source": [
    "Now the feature sclaing will be conducted. Here we follow the standarization that needs to be done only on the dependent variables."
   ]
  },
  {
   "cell_type": "markdown",
   "id": "ba3a7e1c-a6c0-49ca-a43d-d62134519109",
   "metadata": {},
   "source": [
    "### Feature Scaling :"
   ]
  },
  {
   "cell_type": "code",
   "execution_count": 66,
   "id": "ff4057cb-384e-47c5-83fd-2256f24c82f0",
   "metadata": {},
   "outputs": [],
   "source": [
    "from sklearn.preprocessing import StandardScaler\n",
    "sc = StandardScaler()\n",
    "x_train = sc.fit_transform(x_train)\n",
    "x_test = sc.transform(x_test)"
   ]
  },
  {
   "cell_type": "markdown",
   "id": "8970f62b-96b6-401f-b530-73a39fe5a4e3",
   "metadata": {},
   "source": [
    "### Random Forest Modeling :"
   ]
  },
  {
   "cell_type": "code",
   "execution_count": 67,
   "id": "909ff4be-29de-4310-bfcb-360126804728",
   "metadata": {},
   "outputs": [
    {
     "name": "stdout",
     "output_type": "stream",
     "text": [
      "Accuracy of RF model on traing set : 0.9153747530590757\n"
     ]
    }
   ],
   "source": [
    "from sklearn.ensemble import RandomForestRegressor\n",
    "from sklearn.metrics import accuracy_score\n",
    "data_forest = RandomForestRegressor(n_estimators = 20, random_state = 777)\n",
    "data_forest.fit(x_train, y_train)\n",
    "print('Accuracy of RF model on traing set : {}'.format(data_forest.score(x_train, y_train)))\n",
    "forest_pred = data_forest.predict(x_test)"
   ]
  },
  {
   "cell_type": "code",
   "execution_count": 68,
   "id": "76183303-ea39-48e3-96fa-bb1ee8e8db50",
   "metadata": {},
   "outputs": [
    {
     "name": "stdout",
     "output_type": "stream",
     "text": [
      "RMSE value for RF model : 376.3913081557426\n"
     ]
    }
   ],
   "source": [
    "rmse = sqrt(mean_squared_error(forest_pred, y_test))\n",
    "print(\"RMSE value for RF model : {}\".format(rmse))"
   ]
  },
  {
   "cell_type": "code",
   "execution_count": 69,
   "id": "f85bf2fe-9694-4cf1-81e7-5b1f104cb8a5",
   "metadata": {},
   "outputs": [
    {
     "name": "stdout",
     "output_type": "stream",
     "text": [
      "Coefficient of determination is : 0.71\n"
     ]
    }
   ],
   "source": [
    "from sklearn.metrics import r2_score\n",
    "r_2 = r2_score(y_test, forest_pred)\n",
    "print(\"Coefficient of determination is : %.2f\" % r2_score(y_test, forest_pred))"
   ]
  },
  {
   "cell_type": "markdown",
   "id": "09ded391-724a-4c7c-994c-c829d9105fe7",
   "metadata": {},
   "source": [
    "### RF with Hyperparameter Tuning :"
   ]
  },
  {
   "cell_type": "code",
   "execution_count": 70,
   "id": "a24ec9d9-7f2d-42f7-ae38-40c4b89aef07",
   "metadata": {},
   "outputs": [
    {
     "name": "stdout",
     "output_type": "stream",
     "text": [
      "--------------------Random Forest Model with Best Parameters--------------------\n",
      "Best Parameters : \n",
      " {'max_depth': 15, 'max_features': 'sqrt', 'n_estimators': 250}\n"
     ]
    }
   ],
   "source": [
    "print(\"--------------------Random Forest Model with Best Parameters--------------------\")\n",
    "from sklearn.model_selection import GridSearchCV\n",
    "#x = RandomForestClassifier()\n",
    "param_grid = {'max_features' : [\"auto\", \"sqrt\", \"log2\"], 'max_depth': [1, 2, 3, 4, 5, 6, 7, 8, 9, 10, 11, 12, 13, 14, 15],'n_estimators': [100, 150, 200, 250, 300, 350, 400, 450, 500]}\n",
    "data_forest_grid = RandomForestRegressor(random_state = 999)\n",
    "data_forest_CV = GridSearchCV(estimator = data_forest_grid, param_grid = param_grid, cv = 15)\n",
    "data_forest_result = data_forest_CV.fit(x_train, y_train)\n",
    "print(\"Best Parameters : \\n\", data_forest_CV.best_params_)"
   ]
  },
  {
   "cell_type": "code",
   "execution_count": 71,
   "id": "6b88cd13-cb4f-48f3-93ea-b2146ab9390e",
   "metadata": {},
   "outputs": [],
   "source": [
    "data_forest_best = RandomForestRegressor(n_estimators=data_forest_result.best_params_['n_estimators'], max_depth=data_forest_result.best_params_['max_depth'],max_features=data_forest_result.best_params_['max_features'])"
   ]
  },
  {
   "cell_type": "code",
   "execution_count": 72,
   "id": "5e3a8a29-6ef3-490c-bf80-2c2427528853",
   "metadata": {},
   "outputs": [
    {
     "name": "stdout",
     "output_type": "stream",
     "text": [
      "Accuracy on training set with best parameters :  0.9091307936379269\n"
     ]
    }
   ],
   "source": [
    "data_forest_best.fit(x_train, y_train)\n",
    "print(\"Accuracy on training set with best parameters : \", data_forest_best.score(x_train, y_train))"
   ]
  },
  {
   "cell_type": "code",
   "execution_count": 73,
   "id": "9bea5e60-226b-450b-9365-622a8e8d764f",
   "metadata": {},
   "outputs": [
    {
     "name": "stdout",
     "output_type": "stream",
     "text": [
      "Coefficient of determination is : 0.75\n"
     ]
    }
   ],
   "source": [
    "forest_pred2 = data_forest_best.predict(x_test)\n",
    "r_2 = r2_score(y_test, forest_pred2)\n",
    "print(\"Coefficient of determination is : %.2f\" % r2_score(y_test, forest_pred2))"
   ]
  },
  {
   "cell_type": "code",
   "execution_count": 74,
   "id": "f7ee65b0-3130-45f0-884e-675a559a8ab4",
   "metadata": {},
   "outputs": [
    {
     "data": {
      "text/plain": [
       "array([0.05462221, 0.07767573, 0.15182125, 0.03257713, 0.08313995,\n",
       "       0.03468518, 0.17440243, 0.03873763, 0.03064026, 0.21101359,\n",
       "       0.04007173, 0.04848684, 0.02212606])"
      ]
     },
     "execution_count": 74,
     "metadata": {},
     "output_type": "execute_result"
    }
   ],
   "source": [
    "data_forest_best.feature_importances_"
   ]
  },
  {
   "cell_type": "code",
   "execution_count": 75,
   "id": "c38baae9-2e81-47d7-ba0d-89776eaa96d4",
   "metadata": {},
   "outputs": [
    {
     "data": {
      "text/plain": [
       "Index(['brand', 'model', 'screen_size_inch', 'color', 'harddisk_GB', 'cpu',\n",
       "       'ram_GB', 'OS', 'special_features', 'graphics', 'graphics_coprocessor',\n",
       "       'cpu_speed_GHz', 'rating'],\n",
       "      dtype='object')"
      ]
     },
     "execution_count": 75,
     "metadata": {},
     "output_type": "execute_result"
    }
   ],
   "source": [
    "data_new.columns[0:13]"
   ]
  },
  {
   "cell_type": "code",
   "execution_count": 76,
   "id": "485a718d-569e-49e7-9b08-1d7e74905a24",
   "metadata": {},
   "outputs": [
    {
     "data": {
      "image/png": "[encoded data removed]",
      "text/plain": [
       "<Figure size 2000x1000 with 1 Axes>"
      ]
     },
     "metadata": {},
     "output_type": "display_data"
    }
   ],
   "source": [
    "plt.figure(1, figsize = (20,10))\n",
    "plt.yticks(range(0,13), data_new.columns[0:13])\n",
    "plt.barh(range(0,13),data_forest_best.feature_importances_, align = 'center')\n",
    "plt.xlabel(\"Variables in Importance\")\n",
    "plt.ylabel(\"Important Variables\")\n",
    "plt.show()"
   ]
  },
  {
   "cell_type": "code",
   "execution_count": 77,
   "id": "274cdfad-e09d-472c-af8e-4a6f7f7852ac",
   "metadata": {},
   "outputs": [
    {
     "name": "stdout",
     "output_type": "stream",
     "text": [
      "     Important Variables  Value of Importance (%)\n",
      "0               graphics                     21.1\n",
      "1                 ram_GB                     17.4\n",
      "2       screen_size_inch                     15.2\n",
      "3            harddisk_GB                      8.3\n",
      "4                  model                      7.8\n",
      "5                  brand                      5.5\n",
      "6          cpu_speed_GHz                      4.8\n",
      "7   graphics_coprocessor                      4.0\n",
      "8                     OS                      3.9\n",
      "9                    cpu                      3.5\n",
      "10                 color                      3.3\n",
      "11      special_features                      3.1\n",
      "12                rating                      2.2\n"
     ]
    }
   ],
   "source": [
    "imp_var_value = pd.DataFrame((data_forest_best.feature_importances_.round(3))*100, columns=['Value of Importance'])\n",
    "imp_var_name = data_new.columns[0:13]\n",
    "important_features = pd.DataFrame({'Important Variables': imp_var_name, 'Value of Importance (%)': imp_var_value['Value of Importance']})\n",
    "important_features = important_features.sort_values(by='Value of Importance (%)', ascending=False)\n",
    "important_features.reset_index(drop=True, inplace=True)\n",
    "print(important_features)\n",
    "important_features.to_csv(\"Important Features.csv\", index = False)"
   ]
  },
  {
   "cell_type": "code",
   "execution_count": 78,
   "id": "669a2b93-bf80-4257-8120-af7682c8c9e3",
   "metadata": {},
   "outputs": [
    {
     "data": {
      "image/png": "[encoded data removed]",
      "text/plain": [
       "<Figure size 1500x400 with 1 Axes>"
      ]
     },
     "metadata": {},
     "output_type": "display_data"
    }
   ],
   "source": [
    "plt.figure(figsize=(15, 4))\n",
    "plt.bar(important_features['Important Variables'], important_features['Value of Importance (%)'], color='red')\n",
    "plt.xticks(rotation=45)\n",
    "plt.xlabel('Name of the Variables')\n",
    "plt.ylabel('Importance or Weight in this model (%)')\n",
    "plt.title('Importance Variables')\n",
    "plt.show()"
   ]
  },
  {
   "cell_type": "markdown",
   "id": "0fcd189e-ef23-4bdd-9156-79a958b702a7",
   "metadata": {},
   "source": [
    "### Tryring Linear Regression :"
   ]
  },
  {
   "cell_type": "code",
   "execution_count": 79,
   "id": "fbce2af0-578b-4e84-a706-a4bb45029947",
   "metadata": {},
   "outputs": [
    {
     "name": "stdout",
     "output_type": "stream",
     "text": [
      "Coefficient of determination is : 0.50\n"
     ]
    }
   ],
   "source": [
    "from sklearn.linear_model import LinearRegression\n",
    "lin_reg = LinearRegression()\n",
    "lin_reg.fit(x_train, y_train)\n",
    "y_pred = lin_reg.predict(x_test)\n",
    "r_2 = r2_score(y_test, y_pred)\n",
    "print(\"Coefficient of determination is : %.2f\" % r2_score(y_test, y_pred))"
   ]
  },
  {
   "cell_type": "code",
   "execution_count": 80,
   "id": "6fe02507-e18c-4f77-ba43-e26750e81e7c",
   "metadata": {},
   "outputs": [
    {
     "data": {
      "text/html": [
       "<div>\n",
       "<style scoped>\n",
       "    .dataframe tbody tr th:only-of-type {\n",
       "        vertical-align: middle;\n",
       "    }\n",
       "\n",
       "    .dataframe tbody tr th {\n",
       "        vertical-align: top;\n",
       "    }\n",
       "\n",
       "    .dataframe thead th {\n",
       "        text-align: right;\n",
       "    }\n",
       "</style>\n",
       "<table border=\"1\" class=\"dataframe\">\n",
       "  <thead>\n",
       "    <tr style=\"text-align: right;\">\n",
       "      <th></th>\n",
       "      <th>brand</th>\n",
       "      <th>model</th>\n",
       "      <th>screen_size_inch</th>\n",
       "      <th>color</th>\n",
       "      <th>harddisk_GB</th>\n",
       "      <th>cpu</th>\n",
       "      <th>ram_GB</th>\n",
       "      <th>OS</th>\n",
       "      <th>special_features</th>\n",
       "      <th>graphics</th>\n",
       "      <th>graphics_coprocessor</th>\n",
       "      <th>cpu_speed_GHz</th>\n",
       "      <th>rating</th>\n",
       "      <th>price_$</th>\n",
       "    </tr>\n",
       "  </thead>\n",
       "  <tbody>\n",
       "    <tr>\n",
       "      <th>0</th>\n",
       "      <td>1.0</td>\n",
       "      <td>0.0</td>\n",
       "      <td>14.0</td>\n",
       "      <td>1.0</td>\n",
       "      <td>1000.0</td>\n",
       "      <td>0.0</td>\n",
       "      <td>8.0</td>\n",
       "      <td>0.0</td>\n",
       "      <td>0.0</td>\n",
       "      <td>0.0</td>\n",
       "      <td>1.0</td>\n",
       "      <td>1.0</td>\n",
       "      <td>4.0</td>\n",
       "      <td>589.0</td>\n",
       "    </tr>\n",
       "    <tr>\n",
       "      <th>1</th>\n",
       "      <td>1.0</td>\n",
       "      <td>0.0</td>\n",
       "      <td>15.0</td>\n",
       "      <td>2.0</td>\n",
       "      <td>1000.0</td>\n",
       "      <td>0.0</td>\n",
       "      <td>64.0</td>\n",
       "      <td>0.0</td>\n",
       "      <td>1.0</td>\n",
       "      <td>0.0</td>\n",
       "      <td>1.0</td>\n",
       "      <td>11.0</td>\n",
       "      <td>4.0</td>\n",
       "      <td>999.0</td>\n",
       "    </tr>\n",
       "    <tr>\n",
       "      <th>2</th>\n",
       "      <td>2.0</td>\n",
       "      <td>1.0</td>\n",
       "      <td>15.0</td>\n",
       "      <td>0.0</td>\n",
       "      <td>719.0</td>\n",
       "      <td>0.0</td>\n",
       "      <td>32.0</td>\n",
       "      <td>0.0</td>\n",
       "      <td>0.0</td>\n",
       "      <td>1.0</td>\n",
       "      <td>0.0</td>\n",
       "      <td>1.0</td>\n",
       "      <td>5.0</td>\n",
       "      <td>1599.0</td>\n",
       "    </tr>\n",
       "    <tr>\n",
       "      <th>3</th>\n",
       "      <td>2.0</td>\n",
       "      <td>2.0</td>\n",
       "      <td>13.0</td>\n",
       "      <td>2.0</td>\n",
       "      <td>256.0</td>\n",
       "      <td>2.0</td>\n",
       "      <td>8.0</td>\n",
       "      <td>1.0</td>\n",
       "      <td>1.0</td>\n",
       "      <td>0.0</td>\n",
       "      <td>0.0</td>\n",
       "      <td>11.0</td>\n",
       "      <td>4.0</td>\n",
       "      <td>689.0</td>\n",
       "    </tr>\n",
       "    <tr>\n",
       "      <th>4</th>\n",
       "      <td>2.0</td>\n",
       "      <td>2.0</td>\n",
       "      <td>15.0</td>\n",
       "      <td>2.0</td>\n",
       "      <td>256.0</td>\n",
       "      <td>2.0</td>\n",
       "      <td>8.0</td>\n",
       "      <td>1.0</td>\n",
       "      <td>0.0</td>\n",
       "      <td>0.0</td>\n",
       "      <td>0.0</td>\n",
       "      <td>11.0</td>\n",
       "      <td>4.0</td>\n",
       "      <td>1144.0</td>\n",
       "    </tr>\n",
       "  </tbody>\n",
       "</table>\n",
       "</div>"
      ],
      "text/plain": [
       "   brand  model  screen_size_inch  color  harddisk_GB  cpu  ram_GB   OS  \\\n",
       "0    1.0    0.0              14.0    1.0       1000.0  0.0     8.0  0.0   \n",
       "1    1.0    0.0              15.0    2.0       1000.0  0.0    64.0  0.0   \n",
       "2    2.0    1.0              15.0    0.0        719.0  0.0    32.0  0.0   \n",
       "3    2.0    2.0              13.0    2.0        256.0  2.0     8.0  1.0   \n",
       "4    2.0    2.0              15.0    2.0        256.0  2.0     8.0  1.0   \n",
       "\n",
       "   special_features  graphics  graphics_coprocessor  cpu_speed_GHz  rating  \\\n",
       "0               0.0       0.0                   1.0            1.0     4.0   \n",
       "1               1.0       0.0                   1.0           11.0     4.0   \n",
       "2               0.0       1.0                   0.0            1.0     5.0   \n",
       "3               1.0       0.0                   0.0           11.0     4.0   \n",
       "4               0.0       0.0                   0.0           11.0     4.0   \n",
       "\n",
       "   price_$  \n",
       "0    589.0  \n",
       "1    999.0  \n",
       "2   1599.0  \n",
       "3    689.0  \n",
       "4   1144.0  "
      ]
     },
     "execution_count": 80,
     "metadata": {},
     "output_type": "execute_result"
    }
   ],
   "source": [
    "data_new.head()"
   ]
  },
  {
   "cell_type": "raw",
   "id": "7f50c62b-4dbd-4cff-b37f-b224e709f5b1",
   "metadata": {},
   "source": [
    "# Checking for multicollinearity\n",
    "\n",
    "# Multi collinearity assumption : Use of VIF\n",
    "\n",
    "from statsmodels.stats.outliers_influence import variance_inflation_factor\n",
    "\n",
    "def vifresult(data):\n",
    "    threshold = 2.0\n",
    "    variables = list(range(data.shape[1]))\n",
    "    deleted = True\n",
    "    while deleted:\n",
    "        deleted = False\n",
    "        vifvalue = [variance_inflation_factor(data.iloc[:, variables].values, i)\n",
    "        for i in range(data.iloc[:, variables].shape[1])]\n",
    "        maxvifloc = vifvalue.index(max(vifvalue))\n",
    "        if max(vifvalue) > threshold:\n",
    "            print('Deleting \\'' +  data.iloc[:, variables].columns[maxvifloc] + '\\' at index : ' +  str(maxvifloc))\n",
    "            del variables[maxvifloc]\n",
    "            deleted = True\n",
    "    print(\"Important predictor variables are :\", data.columns[variables])\n",
    "    return data.iloc[:, variables]\n",
    "\n",
    "\n",
    "\n",
    "# Getting the new dimensions after removing the multi collinear variables:\n",
    "\n",
    "data_new1 = vifresult(data_new)\n",
    "print(\"Dimensions after multi collinearity assumptions : \", data_new1.shape)"
   ]
  },
  {
   "cell_type": "code",
   "execution_count": 81,
   "id": "dd41e5ab-5462-4fd8-90da-f3adcf4a3d44",
   "metadata": {},
   "outputs": [],
   "source": [
    "#data_new1[\"price_$\"] = data_new[\"price_$\"]"
   ]
  },
  {
   "cell_type": "code",
   "execution_count": 82,
   "id": "1bec41c0-92f4-4523-b02a-ee2443a0bafd",
   "metadata": {},
   "outputs": [],
   "source": [
    "ind = data_new.iloc[:, :-1]\n",
    "dep = data_new.iloc[:, -1]"
   ]
  },
  {
   "cell_type": "code",
   "execution_count": 83,
   "id": "c1482037-a46b-4b57-a102-589e0afe7d4c",
   "metadata": {},
   "outputs": [],
   "source": [
    "ind = ind.values\n",
    "dep = dep.values"
   ]
  },
  {
   "cell_type": "code",
   "execution_count": 84,
   "id": "133ce4f5-511b-41e7-badf-c11cfff0c60b",
   "metadata": {},
   "outputs": [],
   "source": [
    "from sklearn.model_selection import train_test_split\n",
    "ind_train, ind_test, dep_train, dep_test = train_test_split(ind, dep, test_size = 0.20, random_state = 1)"
   ]
  },
  {
   "cell_type": "code",
   "execution_count": 85,
   "id": "087a6145-3d5d-41d3-9417-0a85ff4fd454",
   "metadata": {},
   "outputs": [],
   "source": [
    "from sklearn.preprocessing import StandardScaler\n",
    "sc = StandardScaler()\n",
    "ind_train = sc.fit_transform(ind_train)\n",
    "ind_test = sc.transform(ind_test)"
   ]
  },
  {
   "cell_type": "code",
   "execution_count": 86,
   "id": "c115777c-d96d-4958-aa9b-9fc06d54d01f",
   "metadata": {},
   "outputs": [
    {
     "name": "stdout",
     "output_type": "stream",
     "text": [
      "Coefficient of determination is : 0.50\n"
     ]
    }
   ],
   "source": [
    "from sklearn.linear_model import LinearRegression\n",
    "lin_reg = LinearRegression()\n",
    "lin_reg.fit(ind_train, dep_train)\n",
    "dep_pred = lin_reg.predict(ind_test)\n",
    "r_2 = r2_score(dep_test, dep_pred)\n",
    "print(\"Coefficient of determination is : %.2f\" % r2_score(dep_test, dep_pred))"
   ]
  },
  {
   "cell_type": "code",
   "execution_count": 87,
   "id": "3660199e-dc4c-46a7-b5ba-757c54cef83a",
   "metadata": {},
   "outputs": [
    {
     "name": "stdout",
     "output_type": "stream",
     "text": [
      "--------------------MLRM Model with Best Parameters--------------------\n",
      "Best Parameters : \n",
      " {'copy_X': True, 'fit_intercept': True, 'n_jobs': 3}\n"
     ]
    }
   ],
   "source": [
    "print(\"--------------------MLRM Model with Best Parameters--------------------\")\n",
    "from sklearn.model_selection import GridSearchCV\n",
    "param_grid = {'fit_intercept': [True, False],'copy_X': [True, False],'n_jobs': [3,4,5,6,7,8,9,10,11,12,13,14,15,16,17,18,19,20]}\n",
    "data_mlrm_grid = LinearRegression()\n",
    "data_mlrm_CV = GridSearchCV(estimator = data_mlrm_grid, param_grid = param_grid, cv = 10)\n",
    "data_mlrm_result = data_mlrm_CV.fit(ind_train, dep_train)\n",
    "print(\"Best Parameters : \\n\", data_mlrm_CV.best_params_)"
   ]
  },
  {
   "cell_type": "code",
   "execution_count": 88,
   "id": "eb90ec11-0e5b-49db-8489-7f1248b87a39",
   "metadata": {},
   "outputs": [],
   "source": [
    "data_mlrm_best = LinearRegression(\n",
    "    fit_intercept=data_mlrm_result.best_params_['fit_intercept'],\n",
    "    copy_X=data_mlrm_result.best_params_['copy_X'],\n",
    "    n_jobs=data_mlrm_result.best_params_['n_jobs']\n",
    ")"
   ]
  },
  {
   "cell_type": "code",
   "execution_count": 89,
   "id": "add01bc0-6f3c-4e30-bab9-aa6b8d24f8cc",
   "metadata": {},
   "outputs": [
    {
     "name": "stdout",
     "output_type": "stream",
     "text": [
      "Accuracy on training set with best parameters :  0.48652350674992406\n"
     ]
    }
   ],
   "source": [
    "data_mlrm_best.fit(ind_train, dep_train)\n",
    "print(\"Accuracy on training set with best parameters : \", data_mlrm_best.score(ind_train, dep_train))"
   ]
  },
  {
   "cell_type": "code",
   "execution_count": 90,
   "id": "a1dde981-5795-40aa-97c6-a6257315e955",
   "metadata": {},
   "outputs": [
    {
     "name": "stdout",
     "output_type": "stream",
     "text": [
      "Coefficient of determination is : 0.50\n"
     ]
    }
   ],
   "source": [
    "data_pred2 = data_mlrm_best.predict(ind_test)\n",
    "r_2 = r2_score(dep_test, data_pred2)\n",
    "print(\"Coefficient of determination is : %.2f\" % r2_score(dep_test, data_pred2))"
   ]
  },
  {
   "cell_type": "markdown",
   "id": "7387f215-23c9-46c0-8bf0-d644ddf2fdde",
   "metadata": {},
   "source": [
    "### Trying ANN with Hyperparameter Tuning"
   ]
  },
  {
   "cell_type": "code",
   "execution_count": 91,
   "id": "0a9bbda5-c5bd-41ff-b4da-4902e53a44dd",
   "metadata": {},
   "outputs": [
    {
     "name": "stderr",
     "output_type": "stream",
     "text": [
      "2024-03-14 21:12:41.786164: I tensorflow/core/platform/cpu_feature_guard.cc:182] This TensorFlow binary is optimized to use available CPU instructions in performance-critical operations.\n",
      "To enable the following instructions: AVX2 FMA, in other operations, rebuild TensorFlow with the appropriate compiler flags.\n"
     ]
    },
    {
     "name": "stdout",
     "output_type": "stream",
     "text": [
      "Best Parameters:  {'batch_size': 64, 'epochs': 900}\n",
      "Best Score:  178792.22750258286\n",
      "Test MSE: 206342.34560602024\n",
      "Test R-squared: 0.6196354153409456\n"
     ]
    }
   ],
   "source": [
    "import warnings\n",
    "warnings.filterwarnings(\"ignore\")\n",
    "import numpy as np\n",
    "from sklearn.model_selection import GridSearchCV, train_test_split\n",
    "from keras.models import Sequential\n",
    "from keras.layers import Dense\n",
    "from keras.callbacks import EarlyStopping\n",
    "from keras.wrappers.scikit_learn import KerasRegressor\n",
    "from sklearn.datasets import make_regression\n",
    "from sklearn.preprocessing import StandardScaler\n",
    "from sklearn.metrics import mean_squared_error, r2_score\n",
    "\n",
    "X = data_new.iloc[:,:-1].values\n",
    "y = data_new.iloc[:,-1].values\n",
    "\n",
    "\n",
    "\n",
    "# Split data into train and test sets\n",
    "X_train, X_test, y_train, y_test = train_test_split(X, y, test_size=0.2, random_state=42)\n",
    "\n",
    "# Standardize features\n",
    "scaler = StandardScaler()\n",
    "X_train_scaled = scaler.fit_transform(X_train)\n",
    "X_test_scaled = scaler.transform(X_test)\n",
    "\n",
    "# Define the base ANN model\n",
    "def create_model():\n",
    "    model = Sequential()\n",
    "    model.add(Dense(units=64, activation='relu', input_dim=X_train.shape[1]))\n",
    "    model.add(Dense(units=64, activation='relu'))\n",
    "    model.add(Dense(units=1, activation='linear'))\n",
    "    model.compile(optimizer='adam', loss='mean_squared_error')\n",
    "    return model\n",
    "\n",
    "# Create a KerasRegressor based on the base model\n",
    "model = KerasRegressor(build_fn=create_model, verbose=0)\n",
    "\n",
    "# Define the grid search parameters\n",
    "param_grid = {\n",
    "    'epochs': [50, 100, 200, 300, 400, 500, 600, 700, 800, 900, 1000],\n",
    "    'batch_size': [32, 64, 128, 256],\n",
    "}\n",
    "\n",
    "# Create Early Stopping\n",
    "early_stopping = EarlyStopping(monitor='val_loss', patience=10, restore_best_weights=True)\n",
    "\n",
    "# Create and fit the grid search with early stopping\n",
    "grid = GridSearchCV(estimator=model, param_grid=param_grid, scoring='neg_mean_squared_error', cv=3)\n",
    "grid_result = grid.fit(X_train_scaled, y_train, validation_split=0.2, callbacks=[early_stopping])\n",
    "\n",
    "# Print the best parameters and best score\n",
    "print(\"Best Parameters: \", grid_result.best_params_)\n",
    "print(\"Best Score: \", -grid_result.best_score_)\n",
    "\n",
    "# Evaluate the best model on the test set\n",
    "best_model = grid_result.best_estimator_\n",
    "y_pred = best_model.predict(X_test_scaled)\n",
    "mse = mean_squared_error(y_test, y_pred)\n",
    "r_squared = r2_score(y_test, y_pred)\n",
    "print(\"Test MSE:\", mse)\n",
    "print(\"Test R-squared:\", r_squared)"
   ]
  },
  {
   "cell_type": "code",
   "execution_count": null,
   "id": "da0af573-15ca-4a5d-bcf3-df976625e66d",
   "metadata": {},
   "outputs": [],
   "source": []
  }
 ],
 "metadata": {
  "kernelspec": {
   "display_name": "Python 3 (ipykernel)",
   "language": "python",
   "name": "python3"
  },
  "language_info": {
   "codemirror_mode": {
    "name": "ipython",
    "version": 3
   },
   "file_extension": ".py",
   "mimetype": "text/x-python",
   "name": "python",
   "nbconvert_exporter": "python",
   "pygments_lexer": "ipython3",
   "version": "3.10.9"
  }
 },
 "nbformat": 4,
 "nbformat_minor": 5
}
